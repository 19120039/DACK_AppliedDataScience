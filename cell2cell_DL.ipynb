{
 "cells": [
  {
   "cell_type": "code",
   "execution_count": 1,
   "id": "43a2bf17",
   "metadata": {
    "ExecuteTime": {
     "end_time": "2023-02-02T13:39:44.394618Z",
     "start_time": "2023-02-02T13:39:37.399780Z"
    }
   },
   "outputs": [],
   "source": [
    "import numpy as np\n",
    "import pandas as pd\n",
    "import sklearn\n",
    "import random\n",
    "import time\n",
    "from time import time\n",
    "from matplotlib import pyplot as plt\n",
    "\n",
    "# For Keras\n",
    "from keras.models import Sequential\n",
    "from keras.callbacks import ReduceLROnPlateau\n",
    "from keras.callbacks import LambdaCallback\n",
    "from keras.optimizers import SGD\n",
    "from keras.constraints import maxnorm\n",
    "from keras.callbacks import EarlyStopping, ModelCheckpoint\n",
    "from keras.utils import np_utils\n",
    "from keras.models import Sequential\n",
    "from keras.layers import Dense, Lambda\n",
    "from keras.layers.core import Dropout\n",
    "from keras import regularizers\n",
    "from keras.models import Model, load_model\n",
    "from keras.preprocessing import sequence\n",
    "from keras.models import Sequential\n",
    "from keras.layers import Dense, Dropout, Activation\n",
    "from keras.layers import Embedding\n",
    "from keras.layers import Conv1D, GlobalMaxPooling1D\n",
    "from keras.datasets import imdb\n",
    "from keras.models import Sequential\n",
    "from keras.layers import Dense, Activation, MaxPooling1D\n",
    "from tensorflow.keras.layers import BatchNormalization\n",
    "from keras.layers import ELU, PReLU, LeakyReLU\n",
    "from keras.layers import *\n",
    "from tensorflow_addons.layers import GroupNormalization\n",
    "from keras.models import Model\n",
    "from keras.utils.vis_utils import plot_model\n",
    "\n",
    "from numpy import expand_dims\n",
    "from numpy import zeros\n",
    "from numpy import ones\n",
    "from numpy.random import randn\n",
    "from numpy.random import randint\n",
    "\n",
    "from keras.datasets.fashion_mnist import load_data\n",
    "from keras.optimizers import Adam\n",
    "\n",
    "from sklearn.preprocessing import StandardScaler, MinMaxScaler, LabelEncoder\n",
    "from sklearn.metrics import classification_report\n",
    "from sklearn.metrics import log_loss\n",
    "from sklearn.model_selection import train_test_split"
   ]
  },
  {
   "cell_type": "code",
   "execution_count": 2,
   "id": "50659fb7",
   "metadata": {
    "ExecuteTime": {
     "end_time": "2023-02-02T13:39:44.410612Z",
     "start_time": "2023-02-02T13:39:44.395633Z"
    }
   },
   "outputs": [],
   "source": [
    "list_f1 = []\n",
    "list_time = []\n",
    "lr = 10**-5"
   ]
  },
  {
   "cell_type": "code",
   "execution_count": 3,
   "id": "fb4c764f",
   "metadata": {
    "ExecuteTime": {
     "end_time": "2023-02-02T13:39:44.616664Z",
     "start_time": "2023-02-02T13:39:44.412619Z"
    }
   },
   "outputs": [
    {
     "data": {
      "text/html": [
       "<div>\n",
       "<style scoped>\n",
       "    .dataframe tbody tr th:only-of-type {\n",
       "        vertical-align: middle;\n",
       "    }\n",
       "\n",
       "    .dataframe tbody tr th {\n",
       "        vertical-align: top;\n",
       "    }\n",
       "\n",
       "    .dataframe thead th {\n",
       "        text-align: right;\n",
       "    }\n",
       "</style>\n",
       "<table border=\"1\" class=\"dataframe\">\n",
       "  <thead>\n",
       "    <tr style=\"text-align: right;\">\n",
       "      <th></th>\n",
       "      <th>CustomerID</th>\n",
       "      <th>Churn</th>\n",
       "      <th>MonthlyRevenue</th>\n",
       "      <th>MonthlyMinutes</th>\n",
       "      <th>TotalRecurringCharge</th>\n",
       "      <th>DirectorAssistedCalls</th>\n",
       "      <th>OverageMinutes</th>\n",
       "      <th>RoamingCalls</th>\n",
       "      <th>PercChangeMinutes</th>\n",
       "      <th>PercChangeRevenues</th>\n",
       "      <th>...</th>\n",
       "      <th>ReferralsMadeBySubscriber</th>\n",
       "      <th>IncomeGroup</th>\n",
       "      <th>OwnsMotorcycle</th>\n",
       "      <th>AdjustmentsToCreditRating</th>\n",
       "      <th>HandsetPrice</th>\n",
       "      <th>MadeCallToRetentionTeam</th>\n",
       "      <th>CreditRating</th>\n",
       "      <th>PrizmCode</th>\n",
       "      <th>Occupation</th>\n",
       "      <th>MaritalStatus</th>\n",
       "    </tr>\n",
       "  </thead>\n",
       "  <tbody>\n",
       "    <tr>\n",
       "      <th>0</th>\n",
       "      <td>3000002</td>\n",
       "      <td>Yes</td>\n",
       "      <td>24.00</td>\n",
       "      <td>219.0</td>\n",
       "      <td>22.0</td>\n",
       "      <td>0.25</td>\n",
       "      <td>0.0</td>\n",
       "      <td>0.0</td>\n",
       "      <td>-157.0</td>\n",
       "      <td>-19.0</td>\n",
       "      <td>...</td>\n",
       "      <td>0</td>\n",
       "      <td>4</td>\n",
       "      <td>No</td>\n",
       "      <td>0</td>\n",
       "      <td>30</td>\n",
       "      <td>Yes</td>\n",
       "      <td>1-Highest</td>\n",
       "      <td>Suburban</td>\n",
       "      <td>Professional</td>\n",
       "      <td>No</td>\n",
       "    </tr>\n",
       "    <tr>\n",
       "      <th>1</th>\n",
       "      <td>3000010</td>\n",
       "      <td>Yes</td>\n",
       "      <td>16.99</td>\n",
       "      <td>10.0</td>\n",
       "      <td>17.0</td>\n",
       "      <td>0.00</td>\n",
       "      <td>0.0</td>\n",
       "      <td>0.0</td>\n",
       "      <td>-4.0</td>\n",
       "      <td>0.0</td>\n",
       "      <td>...</td>\n",
       "      <td>0</td>\n",
       "      <td>5</td>\n",
       "      <td>No</td>\n",
       "      <td>0</td>\n",
       "      <td>30</td>\n",
       "      <td>No</td>\n",
       "      <td>4-Medium</td>\n",
       "      <td>Suburban</td>\n",
       "      <td>Professional</td>\n",
       "      <td>Yes</td>\n",
       "    </tr>\n",
       "    <tr>\n",
       "      <th>2</th>\n",
       "      <td>3000014</td>\n",
       "      <td>No</td>\n",
       "      <td>38.00</td>\n",
       "      <td>8.0</td>\n",
       "      <td>38.0</td>\n",
       "      <td>0.00</td>\n",
       "      <td>0.0</td>\n",
       "      <td>0.0</td>\n",
       "      <td>-2.0</td>\n",
       "      <td>0.0</td>\n",
       "      <td>...</td>\n",
       "      <td>0</td>\n",
       "      <td>6</td>\n",
       "      <td>No</td>\n",
       "      <td>0</td>\n",
       "      <td>Unknown</td>\n",
       "      <td>No</td>\n",
       "      <td>3-Good</td>\n",
       "      <td>Town</td>\n",
       "      <td>Crafts</td>\n",
       "      <td>Yes</td>\n",
       "    </tr>\n",
       "    <tr>\n",
       "      <th>3</th>\n",
       "      <td>3000022</td>\n",
       "      <td>No</td>\n",
       "      <td>82.28</td>\n",
       "      <td>1312.0</td>\n",
       "      <td>75.0</td>\n",
       "      <td>1.24</td>\n",
       "      <td>0.0</td>\n",
       "      <td>0.0</td>\n",
       "      <td>157.0</td>\n",
       "      <td>8.1</td>\n",
       "      <td>...</td>\n",
       "      <td>0</td>\n",
       "      <td>6</td>\n",
       "      <td>No</td>\n",
       "      <td>0</td>\n",
       "      <td>10</td>\n",
       "      <td>No</td>\n",
       "      <td>4-Medium</td>\n",
       "      <td>Other</td>\n",
       "      <td>Other</td>\n",
       "      <td>No</td>\n",
       "    </tr>\n",
       "    <tr>\n",
       "      <th>4</th>\n",
       "      <td>3000026</td>\n",
       "      <td>Yes</td>\n",
       "      <td>17.14</td>\n",
       "      <td>0.0</td>\n",
       "      <td>17.0</td>\n",
       "      <td>0.00</td>\n",
       "      <td>0.0</td>\n",
       "      <td>0.0</td>\n",
       "      <td>0.0</td>\n",
       "      <td>-0.2</td>\n",
       "      <td>...</td>\n",
       "      <td>0</td>\n",
       "      <td>9</td>\n",
       "      <td>No</td>\n",
       "      <td>1</td>\n",
       "      <td>10</td>\n",
       "      <td>No</td>\n",
       "      <td>1-Highest</td>\n",
       "      <td>Other</td>\n",
       "      <td>Professional</td>\n",
       "      <td>Yes</td>\n",
       "    </tr>\n",
       "    <tr>\n",
       "      <th>...</th>\n",
       "      <td>...</td>\n",
       "      <td>...</td>\n",
       "      <td>...</td>\n",
       "      <td>...</td>\n",
       "      <td>...</td>\n",
       "      <td>...</td>\n",
       "      <td>...</td>\n",
       "      <td>...</td>\n",
       "      <td>...</td>\n",
       "      <td>...</td>\n",
       "      <td>...</td>\n",
       "      <td>...</td>\n",
       "      <td>...</td>\n",
       "      <td>...</td>\n",
       "      <td>...</td>\n",
       "      <td>...</td>\n",
       "      <td>...</td>\n",
       "      <td>...</td>\n",
       "      <td>...</td>\n",
       "      <td>...</td>\n",
       "      <td>...</td>\n",
       "    </tr>\n",
       "    <tr>\n",
       "      <th>51042</th>\n",
       "      <td>3399958</td>\n",
       "      <td>Yes</td>\n",
       "      <td>NaN</td>\n",
       "      <td>NaN</td>\n",
       "      <td>NaN</td>\n",
       "      <td>NaN</td>\n",
       "      <td>NaN</td>\n",
       "      <td>NaN</td>\n",
       "      <td>NaN</td>\n",
       "      <td>NaN</td>\n",
       "      <td>...</td>\n",
       "      <td>0</td>\n",
       "      <td>6</td>\n",
       "      <td>No</td>\n",
       "      <td>0</td>\n",
       "      <td>60</td>\n",
       "      <td>No</td>\n",
       "      <td>1-Highest</td>\n",
       "      <td>Suburban</td>\n",
       "      <td>Other</td>\n",
       "      <td>Yes</td>\n",
       "    </tr>\n",
       "    <tr>\n",
       "      <th>51043</th>\n",
       "      <td>3399974</td>\n",
       "      <td>No</td>\n",
       "      <td>95.17</td>\n",
       "      <td>1745.0</td>\n",
       "      <td>85.0</td>\n",
       "      <td>0.99</td>\n",
       "      <td>45.0</td>\n",
       "      <td>4.7</td>\n",
       "      <td>122.0</td>\n",
       "      <td>15.9</td>\n",
       "      <td>...</td>\n",
       "      <td>0</td>\n",
       "      <td>9</td>\n",
       "      <td>No</td>\n",
       "      <td>1</td>\n",
       "      <td>60</td>\n",
       "      <td>No</td>\n",
       "      <td>3-Good</td>\n",
       "      <td>Other</td>\n",
       "      <td>Other</td>\n",
       "      <td>No</td>\n",
       "    </tr>\n",
       "    <tr>\n",
       "      <th>51044</th>\n",
       "      <td>3399978</td>\n",
       "      <td>Yes</td>\n",
       "      <td>NaN</td>\n",
       "      <td>NaN</td>\n",
       "      <td>NaN</td>\n",
       "      <td>NaN</td>\n",
       "      <td>NaN</td>\n",
       "      <td>NaN</td>\n",
       "      <td>NaN</td>\n",
       "      <td>NaN</td>\n",
       "      <td>...</td>\n",
       "      <td>0</td>\n",
       "      <td>7</td>\n",
       "      <td>No</td>\n",
       "      <td>1</td>\n",
       "      <td>80</td>\n",
       "      <td>No</td>\n",
       "      <td>5-Low</td>\n",
       "      <td>Other</td>\n",
       "      <td>Clerical</td>\n",
       "      <td>No</td>\n",
       "    </tr>\n",
       "    <tr>\n",
       "      <th>51045</th>\n",
       "      <td>3399990</td>\n",
       "      <td>No</td>\n",
       "      <td>NaN</td>\n",
       "      <td>NaN</td>\n",
       "      <td>NaN</td>\n",
       "      <td>NaN</td>\n",
       "      <td>NaN</td>\n",
       "      <td>NaN</td>\n",
       "      <td>NaN</td>\n",
       "      <td>NaN</td>\n",
       "      <td>...</td>\n",
       "      <td>0</td>\n",
       "      <td>9</td>\n",
       "      <td>No</td>\n",
       "      <td>0</td>\n",
       "      <td>30</td>\n",
       "      <td>No</td>\n",
       "      <td>5-Low</td>\n",
       "      <td>Other</td>\n",
       "      <td>Other</td>\n",
       "      <td>No</td>\n",
       "    </tr>\n",
       "    <tr>\n",
       "      <th>51046</th>\n",
       "      <td>3399994</td>\n",
       "      <td>No</td>\n",
       "      <td>NaN</td>\n",
       "      <td>NaN</td>\n",
       "      <td>NaN</td>\n",
       "      <td>NaN</td>\n",
       "      <td>NaN</td>\n",
       "      <td>NaN</td>\n",
       "      <td>NaN</td>\n",
       "      <td>NaN</td>\n",
       "      <td>...</td>\n",
       "      <td>0</td>\n",
       "      <td>0</td>\n",
       "      <td>No</td>\n",
       "      <td>1</td>\n",
       "      <td>60</td>\n",
       "      <td>Yes</td>\n",
       "      <td>5-Low</td>\n",
       "      <td>Other</td>\n",
       "      <td>Other</td>\n",
       "      <td>Unknown</td>\n",
       "    </tr>\n",
       "  </tbody>\n",
       "</table>\n",
       "<p>51047 rows × 58 columns</p>\n",
       "</div>"
      ],
      "text/plain": [
       "       CustomerID Churn  MonthlyRevenue  MonthlyMinutes  TotalRecurringCharge  \\\n",
       "0         3000002   Yes           24.00           219.0                  22.0   \n",
       "1         3000010   Yes           16.99            10.0                  17.0   \n",
       "2         3000014    No           38.00             8.0                  38.0   \n",
       "3         3000022    No           82.28          1312.0                  75.0   \n",
       "4         3000026   Yes           17.14             0.0                  17.0   \n",
       "...           ...   ...             ...             ...                   ...   \n",
       "51042     3399958   Yes             NaN             NaN                   NaN   \n",
       "51043     3399974    No           95.17          1745.0                  85.0   \n",
       "51044     3399978   Yes             NaN             NaN                   NaN   \n",
       "51045     3399990    No             NaN             NaN                   NaN   \n",
       "51046     3399994    No             NaN             NaN                   NaN   \n",
       "\n",
       "       DirectorAssistedCalls  OverageMinutes  RoamingCalls  PercChangeMinutes  \\\n",
       "0                       0.25             0.0           0.0             -157.0   \n",
       "1                       0.00             0.0           0.0               -4.0   \n",
       "2                       0.00             0.0           0.0               -2.0   \n",
       "3                       1.24             0.0           0.0              157.0   \n",
       "4                       0.00             0.0           0.0                0.0   \n",
       "...                      ...             ...           ...                ...   \n",
       "51042                    NaN             NaN           NaN                NaN   \n",
       "51043                   0.99            45.0           4.7              122.0   \n",
       "51044                    NaN             NaN           NaN                NaN   \n",
       "51045                    NaN             NaN           NaN                NaN   \n",
       "51046                    NaN             NaN           NaN                NaN   \n",
       "\n",
       "       PercChangeRevenues  ...  ReferralsMadeBySubscriber  IncomeGroup  \\\n",
       "0                   -19.0  ...                          0            4   \n",
       "1                     0.0  ...                          0            5   \n",
       "2                     0.0  ...                          0            6   \n",
       "3                     8.1  ...                          0            6   \n",
       "4                    -0.2  ...                          0            9   \n",
       "...                   ...  ...                        ...          ...   \n",
       "51042                 NaN  ...                          0            6   \n",
       "51043                15.9  ...                          0            9   \n",
       "51044                 NaN  ...                          0            7   \n",
       "51045                 NaN  ...                          0            9   \n",
       "51046                 NaN  ...                          0            0   \n",
       "\n",
       "       OwnsMotorcycle  AdjustmentsToCreditRating  HandsetPrice  \\\n",
       "0                  No                          0            30   \n",
       "1                  No                          0            30   \n",
       "2                  No                          0       Unknown   \n",
       "3                  No                          0            10   \n",
       "4                  No                          1            10   \n",
       "...               ...                        ...           ...   \n",
       "51042              No                          0            60   \n",
       "51043              No                          1            60   \n",
       "51044              No                          1            80   \n",
       "51045              No                          0            30   \n",
       "51046              No                          1            60   \n",
       "\n",
       "       MadeCallToRetentionTeam  CreditRating  PrizmCode    Occupation  \\\n",
       "0                          Yes     1-Highest   Suburban  Professional   \n",
       "1                           No      4-Medium   Suburban  Professional   \n",
       "2                           No        3-Good       Town        Crafts   \n",
       "3                           No      4-Medium      Other         Other   \n",
       "4                           No     1-Highest      Other  Professional   \n",
       "...                        ...           ...        ...           ...   \n",
       "51042                       No     1-Highest   Suburban         Other   \n",
       "51043                       No        3-Good      Other         Other   \n",
       "51044                       No         5-Low      Other      Clerical   \n",
       "51045                       No         5-Low      Other         Other   \n",
       "51046                      Yes         5-Low      Other         Other   \n",
       "\n",
       "       MaritalStatus  \n",
       "0                 No  \n",
       "1                Yes  \n",
       "2                Yes  \n",
       "3                 No  \n",
       "4                Yes  \n",
       "...              ...  \n",
       "51042            Yes  \n",
       "51043             No  \n",
       "51044             No  \n",
       "51045             No  \n",
       "51046        Unknown  \n",
       "\n",
       "[51047 rows x 58 columns]"
      ]
     },
     "execution_count": 3,
     "metadata": {},
     "output_type": "execute_result"
    }
   ],
   "source": [
    "data = pd.read_csv(\"dataset/cell2celltrain.csv\")\n",
    "\n",
    "data_cp = data.copy()\n",
    "data_cp"
   ]
  },
  {
   "cell_type": "code",
   "execution_count": 4,
   "id": "fd28f84d",
   "metadata": {
    "ExecuteTime": {
     "end_time": "2023-02-02T13:39:44.632668Z",
     "start_time": "2023-02-02T13:39:44.617665Z"
    }
   },
   "outputs": [],
   "source": [
    "def yes_no_encode(x):\n",
    "    if (x == \"Yes\" or x == \"Known\"):\n",
    "        return 1\n",
    "    else:\n",
    "        return 0\n",
    "\n",
    "le = LabelEncoder()"
   ]
  },
  {
   "cell_type": "code",
   "execution_count": 5,
   "id": "fa599106",
   "metadata": {
    "ExecuteTime": {
     "end_time": "2023-02-02T13:39:45.550836Z",
     "start_time": "2023-02-02T13:39:44.633669Z"
    }
   },
   "outputs": [
    {
     "data": {
      "text/html": [
       "<div>\n",
       "<style scoped>\n",
       "    .dataframe tbody tr th:only-of-type {\n",
       "        vertical-align: middle;\n",
       "    }\n",
       "\n",
       "    .dataframe tbody tr th {\n",
       "        vertical-align: top;\n",
       "    }\n",
       "\n",
       "    .dataframe thead th {\n",
       "        text-align: right;\n",
       "    }\n",
       "</style>\n",
       "<table border=\"1\" class=\"dataframe\">\n",
       "  <thead>\n",
       "    <tr style=\"text-align: right;\">\n",
       "      <th></th>\n",
       "      <th>CustomerID</th>\n",
       "      <th>Churn</th>\n",
       "      <th>MonthlyRevenue</th>\n",
       "      <th>MonthlyMinutes</th>\n",
       "      <th>TotalRecurringCharge</th>\n",
       "      <th>DirectorAssistedCalls</th>\n",
       "      <th>OverageMinutes</th>\n",
       "      <th>RoamingCalls</th>\n",
       "      <th>PercChangeMinutes</th>\n",
       "      <th>PercChangeRevenues</th>\n",
       "      <th>...</th>\n",
       "      <th>ReferralsMadeBySubscriber</th>\n",
       "      <th>IncomeGroup</th>\n",
       "      <th>OwnsMotorcycle</th>\n",
       "      <th>AdjustmentsToCreditRating</th>\n",
       "      <th>HandsetPrice</th>\n",
       "      <th>MadeCallToRetentionTeam</th>\n",
       "      <th>CreditRating</th>\n",
       "      <th>PrizmCode</th>\n",
       "      <th>Occupation</th>\n",
       "      <th>MaritalStatus</th>\n",
       "    </tr>\n",
       "  </thead>\n",
       "  <tbody>\n",
       "    <tr>\n",
       "      <th>0</th>\n",
       "      <td>3000002</td>\n",
       "      <td>1</td>\n",
       "      <td>24.00</td>\n",
       "      <td>219.0</td>\n",
       "      <td>22.0</td>\n",
       "      <td>0.25</td>\n",
       "      <td>0.0</td>\n",
       "      <td>0.0</td>\n",
       "      <td>-157.0</td>\n",
       "      <td>-19.0</td>\n",
       "      <td>...</td>\n",
       "      <td>0</td>\n",
       "      <td>4</td>\n",
       "      <td>0</td>\n",
       "      <td>0</td>\n",
       "      <td>30</td>\n",
       "      <td>1</td>\n",
       "      <td>1</td>\n",
       "      <td>2</td>\n",
       "      <td>4</td>\n",
       "      <td>0</td>\n",
       "    </tr>\n",
       "    <tr>\n",
       "      <th>1</th>\n",
       "      <td>3000010</td>\n",
       "      <td>1</td>\n",
       "      <td>16.99</td>\n",
       "      <td>10.0</td>\n",
       "      <td>17.0</td>\n",
       "      <td>0.00</td>\n",
       "      <td>0.0</td>\n",
       "      <td>0.0</td>\n",
       "      <td>-4.0</td>\n",
       "      <td>0.0</td>\n",
       "      <td>...</td>\n",
       "      <td>0</td>\n",
       "      <td>5</td>\n",
       "      <td>0</td>\n",
       "      <td>0</td>\n",
       "      <td>30</td>\n",
       "      <td>0</td>\n",
       "      <td>4</td>\n",
       "      <td>2</td>\n",
       "      <td>4</td>\n",
       "      <td>2</td>\n",
       "    </tr>\n",
       "    <tr>\n",
       "      <th>2</th>\n",
       "      <td>3000014</td>\n",
       "      <td>0</td>\n",
       "      <td>38.00</td>\n",
       "      <td>8.0</td>\n",
       "      <td>38.0</td>\n",
       "      <td>0.00</td>\n",
       "      <td>0.0</td>\n",
       "      <td>0.0</td>\n",
       "      <td>-2.0</td>\n",
       "      <td>0.0</td>\n",
       "      <td>...</td>\n",
       "      <td>0</td>\n",
       "      <td>6</td>\n",
       "      <td>0</td>\n",
       "      <td>0</td>\n",
       "      <td>0</td>\n",
       "      <td>0</td>\n",
       "      <td>3</td>\n",
       "      <td>3</td>\n",
       "      <td>1</td>\n",
       "      <td>2</td>\n",
       "    </tr>\n",
       "    <tr>\n",
       "      <th>3</th>\n",
       "      <td>3000022</td>\n",
       "      <td>0</td>\n",
       "      <td>82.28</td>\n",
       "      <td>1312.0</td>\n",
       "      <td>75.0</td>\n",
       "      <td>1.24</td>\n",
       "      <td>0.0</td>\n",
       "      <td>0.0</td>\n",
       "      <td>157.0</td>\n",
       "      <td>8.1</td>\n",
       "      <td>...</td>\n",
       "      <td>0</td>\n",
       "      <td>6</td>\n",
       "      <td>0</td>\n",
       "      <td>0</td>\n",
       "      <td>10</td>\n",
       "      <td>0</td>\n",
       "      <td>4</td>\n",
       "      <td>0</td>\n",
       "      <td>3</td>\n",
       "      <td>0</td>\n",
       "    </tr>\n",
       "    <tr>\n",
       "      <th>4</th>\n",
       "      <td>3000026</td>\n",
       "      <td>1</td>\n",
       "      <td>17.14</td>\n",
       "      <td>0.0</td>\n",
       "      <td>17.0</td>\n",
       "      <td>0.00</td>\n",
       "      <td>0.0</td>\n",
       "      <td>0.0</td>\n",
       "      <td>0.0</td>\n",
       "      <td>-0.2</td>\n",
       "      <td>...</td>\n",
       "      <td>0</td>\n",
       "      <td>9</td>\n",
       "      <td>0</td>\n",
       "      <td>1</td>\n",
       "      <td>10</td>\n",
       "      <td>0</td>\n",
       "      <td>1</td>\n",
       "      <td>0</td>\n",
       "      <td>4</td>\n",
       "      <td>2</td>\n",
       "    </tr>\n",
       "    <tr>\n",
       "      <th>...</th>\n",
       "      <td>...</td>\n",
       "      <td>...</td>\n",
       "      <td>...</td>\n",
       "      <td>...</td>\n",
       "      <td>...</td>\n",
       "      <td>...</td>\n",
       "      <td>...</td>\n",
       "      <td>...</td>\n",
       "      <td>...</td>\n",
       "      <td>...</td>\n",
       "      <td>...</td>\n",
       "      <td>...</td>\n",
       "      <td>...</td>\n",
       "      <td>...</td>\n",
       "      <td>...</td>\n",
       "      <td>...</td>\n",
       "      <td>...</td>\n",
       "      <td>...</td>\n",
       "      <td>...</td>\n",
       "      <td>...</td>\n",
       "      <td>...</td>\n",
       "    </tr>\n",
       "    <tr>\n",
       "      <th>51042</th>\n",
       "      <td>3399958</td>\n",
       "      <td>1</td>\n",
       "      <td>0.00</td>\n",
       "      <td>0.0</td>\n",
       "      <td>0.0</td>\n",
       "      <td>0.00</td>\n",
       "      <td>0.0</td>\n",
       "      <td>0.0</td>\n",
       "      <td>0.0</td>\n",
       "      <td>0.0</td>\n",
       "      <td>...</td>\n",
       "      <td>0</td>\n",
       "      <td>6</td>\n",
       "      <td>0</td>\n",
       "      <td>0</td>\n",
       "      <td>60</td>\n",
       "      <td>0</td>\n",
       "      <td>1</td>\n",
       "      <td>2</td>\n",
       "      <td>3</td>\n",
       "      <td>2</td>\n",
       "    </tr>\n",
       "    <tr>\n",
       "      <th>51043</th>\n",
       "      <td>3399974</td>\n",
       "      <td>0</td>\n",
       "      <td>95.17</td>\n",
       "      <td>1745.0</td>\n",
       "      <td>85.0</td>\n",
       "      <td>0.99</td>\n",
       "      <td>45.0</td>\n",
       "      <td>4.7</td>\n",
       "      <td>122.0</td>\n",
       "      <td>15.9</td>\n",
       "      <td>...</td>\n",
       "      <td>0</td>\n",
       "      <td>9</td>\n",
       "      <td>0</td>\n",
       "      <td>1</td>\n",
       "      <td>60</td>\n",
       "      <td>0</td>\n",
       "      <td>3</td>\n",
       "      <td>0</td>\n",
       "      <td>3</td>\n",
       "      <td>0</td>\n",
       "    </tr>\n",
       "    <tr>\n",
       "      <th>51044</th>\n",
       "      <td>3399978</td>\n",
       "      <td>1</td>\n",
       "      <td>0.00</td>\n",
       "      <td>0.0</td>\n",
       "      <td>0.0</td>\n",
       "      <td>0.00</td>\n",
       "      <td>0.0</td>\n",
       "      <td>0.0</td>\n",
       "      <td>0.0</td>\n",
       "      <td>0.0</td>\n",
       "      <td>...</td>\n",
       "      <td>0</td>\n",
       "      <td>7</td>\n",
       "      <td>0</td>\n",
       "      <td>1</td>\n",
       "      <td>80</td>\n",
       "      <td>0</td>\n",
       "      <td>5</td>\n",
       "      <td>0</td>\n",
       "      <td>0</td>\n",
       "      <td>0</td>\n",
       "    </tr>\n",
       "    <tr>\n",
       "      <th>51045</th>\n",
       "      <td>3399990</td>\n",
       "      <td>0</td>\n",
       "      <td>0.00</td>\n",
       "      <td>0.0</td>\n",
       "      <td>0.0</td>\n",
       "      <td>0.00</td>\n",
       "      <td>0.0</td>\n",
       "      <td>0.0</td>\n",
       "      <td>0.0</td>\n",
       "      <td>0.0</td>\n",
       "      <td>...</td>\n",
       "      <td>0</td>\n",
       "      <td>9</td>\n",
       "      <td>0</td>\n",
       "      <td>0</td>\n",
       "      <td>30</td>\n",
       "      <td>0</td>\n",
       "      <td>5</td>\n",
       "      <td>0</td>\n",
       "      <td>3</td>\n",
       "      <td>0</td>\n",
       "    </tr>\n",
       "    <tr>\n",
       "      <th>51046</th>\n",
       "      <td>3399994</td>\n",
       "      <td>0</td>\n",
       "      <td>0.00</td>\n",
       "      <td>0.0</td>\n",
       "      <td>0.0</td>\n",
       "      <td>0.00</td>\n",
       "      <td>0.0</td>\n",
       "      <td>0.0</td>\n",
       "      <td>0.0</td>\n",
       "      <td>0.0</td>\n",
       "      <td>...</td>\n",
       "      <td>0</td>\n",
       "      <td>0</td>\n",
       "      <td>0</td>\n",
       "      <td>1</td>\n",
       "      <td>60</td>\n",
       "      <td>1</td>\n",
       "      <td>5</td>\n",
       "      <td>0</td>\n",
       "      <td>3</td>\n",
       "      <td>1</td>\n",
       "    </tr>\n",
       "  </tbody>\n",
       "</table>\n",
       "<p>51047 rows × 58 columns</p>\n",
       "</div>"
      ],
      "text/plain": [
       "       CustomerID  Churn  MonthlyRevenue  MonthlyMinutes  \\\n",
       "0         3000002      1           24.00           219.0   \n",
       "1         3000010      1           16.99            10.0   \n",
       "2         3000014      0           38.00             8.0   \n",
       "3         3000022      0           82.28          1312.0   \n",
       "4         3000026      1           17.14             0.0   \n",
       "...           ...    ...             ...             ...   \n",
       "51042     3399958      1            0.00             0.0   \n",
       "51043     3399974      0           95.17          1745.0   \n",
       "51044     3399978      1            0.00             0.0   \n",
       "51045     3399990      0            0.00             0.0   \n",
       "51046     3399994      0            0.00             0.0   \n",
       "\n",
       "       TotalRecurringCharge  DirectorAssistedCalls  OverageMinutes  \\\n",
       "0                      22.0                   0.25             0.0   \n",
       "1                      17.0                   0.00             0.0   \n",
       "2                      38.0                   0.00             0.0   \n",
       "3                      75.0                   1.24             0.0   \n",
       "4                      17.0                   0.00             0.0   \n",
       "...                     ...                    ...             ...   \n",
       "51042                   0.0                   0.00             0.0   \n",
       "51043                  85.0                   0.99            45.0   \n",
       "51044                   0.0                   0.00             0.0   \n",
       "51045                   0.0                   0.00             0.0   \n",
       "51046                   0.0                   0.00             0.0   \n",
       "\n",
       "       RoamingCalls  PercChangeMinutes  PercChangeRevenues  ...  \\\n",
       "0               0.0             -157.0               -19.0  ...   \n",
       "1               0.0               -4.0                 0.0  ...   \n",
       "2               0.0               -2.0                 0.0  ...   \n",
       "3               0.0              157.0                 8.1  ...   \n",
       "4               0.0                0.0                -0.2  ...   \n",
       "...             ...                ...                 ...  ...   \n",
       "51042           0.0                0.0                 0.0  ...   \n",
       "51043           4.7              122.0                15.9  ...   \n",
       "51044           0.0                0.0                 0.0  ...   \n",
       "51045           0.0                0.0                 0.0  ...   \n",
       "51046           0.0                0.0                 0.0  ...   \n",
       "\n",
       "       ReferralsMadeBySubscriber  IncomeGroup  OwnsMotorcycle  \\\n",
       "0                              0            4               0   \n",
       "1                              0            5               0   \n",
       "2                              0            6               0   \n",
       "3                              0            6               0   \n",
       "4                              0            9               0   \n",
       "...                          ...          ...             ...   \n",
       "51042                          0            6               0   \n",
       "51043                          0            9               0   \n",
       "51044                          0            7               0   \n",
       "51045                          0            9               0   \n",
       "51046                          0            0               0   \n",
       "\n",
       "       AdjustmentsToCreditRating  HandsetPrice  MadeCallToRetentionTeam  \\\n",
       "0                              0            30                        1   \n",
       "1                              0            30                        0   \n",
       "2                              0             0                        0   \n",
       "3                              0            10                        0   \n",
       "4                              1            10                        0   \n",
       "...                          ...           ...                      ...   \n",
       "51042                          0            60                        0   \n",
       "51043                          1            60                        0   \n",
       "51044                          1            80                        0   \n",
       "51045                          0            30                        0   \n",
       "51046                          1            60                        1   \n",
       "\n",
       "       CreditRating  PrizmCode  Occupation  MaritalStatus  \n",
       "0                 1          2           4              0  \n",
       "1                 4          2           4              2  \n",
       "2                 3          3           1              2  \n",
       "3                 4          0           3              0  \n",
       "4                 1          0           4              2  \n",
       "...             ...        ...         ...            ...  \n",
       "51042             1          2           3              2  \n",
       "51043             3          0           3              0  \n",
       "51044             5          0           0              0  \n",
       "51045             5          0           3              0  \n",
       "51046             5          0           3              1  \n",
       "\n",
       "[51047 rows x 58 columns]"
      ]
     },
     "execution_count": 5,
     "metadata": {},
     "output_type": "execute_result"
    }
   ],
   "source": [
    "data_cp = data.copy()\n",
    "\n",
    "data_cp[\"ChildrenInHH\"] = le.fit_transform(data_cp[\"ChildrenInHH\"])\n",
    "\n",
    "data_cp[\"HandsetRefurbished\"] = le.fit_transform(data_cp[\"HandsetRefurbished\"])\n",
    "\n",
    "data_cp[\"HandsetWebCapable\"] = le.fit_transform(data_cp[\"HandsetWebCapable\"])\n",
    "\n",
    "data_cp[\"TruckOwner\"] = le.fit_transform(data_cp[\"TruckOwner\"])\n",
    "\n",
    "data_cp[\"RVOwner\"] = le.fit_transform(data_cp[\"RVOwner\"])\n",
    "\n",
    "data_cp[\"Homeownership\"] = le.fit_transform(data_cp[\"Homeownership\"])\n",
    "\n",
    "data_cp[\"BuysViaMailOrder\"] = le.fit_transform(data_cp[\"BuysViaMailOrder\"])\n",
    "\n",
    "data_cp[\"RespondsToMailOffers\"] = le.fit_transform(data_cp[\"RespondsToMailOffers\"])\n",
    "\n",
    "data_cp[\"OptOutMailings\"] = le.fit_transform(data_cp[\"OptOutMailings\"])\n",
    "\n",
    "data_cp[\"NonUSTravel\"] = le.fit_transform(data_cp[\"NonUSTravel\"])\n",
    "\n",
    "data_cp[\"OwnsComputer\"] = le.fit_transform(data_cp[\"OwnsComputer\"])\n",
    "\n",
    "data_cp[\"HasCreditCard\"] = le.fit_transform(data_cp[\"HasCreditCard\"])\n",
    "\n",
    "data_cp[\"NonUSTravel\"] = le.fit_transform(data_cp[\"NonUSTravel\"])\n",
    "\n",
    "data_cp[\"NotNewCellphoneUser\"] = le.fit_transform(data_cp[\"NotNewCellphoneUser\"])\n",
    "\n",
    "data_cp[\"OwnsMotorcycle\"] = le.fit_transform(data_cp[\"OwnsMotorcycle\"])\n",
    "\n",
    "data_cp[\"MadeCallToRetentionTeam\"] = le.fit_transform(data_cp[\"MadeCallToRetentionTeam\"])\n",
    "\n",
    "data_cp[\"NewCellphoneUser\"] = le.fit_transform(data_cp[\"NewCellphoneUser\"])\n",
    "\n",
    "data_cp[\"MaritalStatus\"] = le.fit_transform(data_cp[\"MaritalStatus\"])\n",
    "\n",
    "data_cp[\"Occupation\"] = le.fit_transform(data_cp[\"Occupation\"])\n",
    "\n",
    "data_cp[\"ServiceArea\"] = le.fit_transform(data_cp[\"ServiceArea\"])\n",
    "\n",
    "data_cp[\"PrizmCode\"] = le.fit_transform(data_cp[\"PrizmCode\"])\n",
    "\n",
    "data_cp[\"CreditRating\"] = data_cp[\"CreditRating\"].apply(lambda x: int(x[0]))\n",
    "\n",
    "data_cp[\"HandsetPrice\"] = data_cp[\"HandsetPrice\"].apply(lambda x: 0 if (x == \"Unknown\") else x)\n",
    "\n",
    "data_cp[\"Churn\"] = data_cp[\"Churn\"].apply(yes_no_encode)\n",
    "\n",
    "data_cp = data_cp.fillna(0)\n",
    "\n",
    "data_cp.to_csv(\"checkcheckcell2cell.csv\")\n",
    "data_cp"
   ]
  },
  {
   "cell_type": "code",
   "execution_count": 6,
   "id": "921620ae",
   "metadata": {
    "ExecuteTime": {
     "end_time": "2023-02-02T13:39:45.582844Z",
     "start_time": "2023-02-02T13:39:45.551836Z"
    }
   },
   "outputs": [],
   "source": [
    "cols = [c for c in data_cp.columns if c not in ['Churn','CustomerID']]\n",
    "\n",
    "X = data_cp[cols]\n",
    "y = data_cp[\"Churn\"]\n",
    "\n",
    "X_train, X_test, y_train, y_test = train_test_split(X, y, test_size=0.25, random_state=42)"
   ]
  },
  {
   "cell_type": "code",
   "execution_count": 7,
   "id": "6583e31d",
   "metadata": {
    "ExecuteTime": {
     "end_time": "2023-02-02T13:39:45.806247Z",
     "start_time": "2023-02-02T13:39:45.584852Z"
    }
   },
   "outputs": [],
   "source": [
    "X_train = StandardScaler().fit_transform(X_train[cols].values)\n",
    "y_train = y_train.values\n",
    "\n",
    "X_test = StandardScaler().fit_transform(X_test[cols].values)\n",
    "y_test = y_test.values"
   ]
  },
  {
   "cell_type": "markdown",
   "id": "c50b76cd",
   "metadata": {
    "ExecuteTime": {
     "end_time": "2022-12-26T06:42:44.764214Z",
     "start_time": "2022-12-26T06:42:44.749211Z"
    }
   },
   "source": [
    "# Deep Learning"
   ]
  },
  {
   "cell_type": "markdown",
   "id": "deab471c",
   "metadata": {},
   "source": [
    "## No Norm"
   ]
  },
  {
   "cell_type": "code",
   "execution_count": 8,
   "id": "66409ad2",
   "metadata": {
    "ExecuteTime": {
     "end_time": "2023-02-02T13:39:46.505810Z",
     "start_time": "2023-02-02T13:39:45.807246Z"
    }
   },
   "outputs": [
    {
     "name": "stdout",
     "output_type": "stream",
     "text": [
      "Model: \"sequential\"\n",
      "_________________________________________________________________\n",
      " Layer (type)                Output Shape              Param #   \n",
      "=================================================================\n",
      " dense (Dense)               (None, 512)               29184     \n",
      "                                                                 \n",
      " activation (Activation)     (None, 512)               0         \n",
      "                                                                 \n",
      " dense_1 (Dense)             (None, 256)               131328    \n",
      "                                                                 \n",
      " activation_1 (Activation)   (None, 256)               0         \n",
      "                                                                 \n",
      " dense_2 (Dense)             (None, 128)               32896     \n",
      "                                                                 \n",
      " activation_2 (Activation)   (None, 128)               0         \n",
      "                                                                 \n",
      " dense_3 (Dense)             (None, 64)                8256      \n",
      "                                                                 \n",
      " activation_3 (Activation)   (None, 64)                0         \n",
      "                                                                 \n",
      " dense_4 (Dense)             (None, 1)                 65        \n",
      "                                                                 \n",
      "=================================================================\n",
      "Total params: 201,729\n",
      "Trainable params: 201,729\n",
      "Non-trainable params: 0\n",
      "_________________________________________________________________\n"
     ]
    }
   ],
   "source": [
    "model = Sequential()\n",
    "model.add(Dense(512, input_dim=int(X_train.shape[1])))\n",
    "#model.add(LayerNormalization())\n",
    "model.add(Activation('relu'))\n",
    "\n",
    "model.add(Dense(256))\n",
    "#model.add(LayerNormalization())\n",
    "model.add(Activation('relu'))\n",
    "\n",
    "model.add(Dense(128))\n",
    "#model.add(LayerNormalization())\n",
    "model.add(Activation('relu'))\n",
    "\n",
    "model.add(Dense(64))\n",
    "#model.add(LayerNormalization())\n",
    "model.add(Activation('relu'))\n",
    "\n",
    "model.add(Dense(1, activation='sigmoid'))\n",
    "\n",
    "# Compile model\n",
    "model.compile(loss='binary_crossentropy', optimizer = tf.keras.optimizers.Adam(learning_rate=lr), metrics=['accuracy',tf.keras.metrics.AUC()])\n",
    "model.summary()"
   ]
  },
  {
   "cell_type": "code",
   "execution_count": 9,
   "id": "6b1c533f",
   "metadata": {
    "ExecuteTime": {
     "end_time": "2023-02-02T13:39:49.563256Z",
     "start_time": "2023-02-02T13:39:46.508810Z"
    }
   },
   "outputs": [
    {
     "name": "stdout",
     "output_type": "stream",
     "text": [
      "Epoch 1/10\n",
      "31/31 [==============================] - 1s 12ms/step - loss: 0.6558 - accuracy: 0.7046 - auc: 0.5142 - val_loss: 0.6422 - val_accuracy: 0.7159 - val_auc: 0.5130\n",
      "Epoch 2/10\n",
      "31/31 [==============================] - 0s 7ms/step - loss: 0.6367 - accuracy: 0.7098 - auc: 0.5167 - val_loss: 0.6259 - val_accuracy: 0.7161 - val_auc: 0.5130\n",
      "Epoch 3/10\n",
      "31/31 [==============================] - 0s 7ms/step - loss: 0.6237 - accuracy: 0.7099 - auc: 0.5200 - val_loss: 0.6153 - val_accuracy: 0.7161 - val_auc: 0.5156\n",
      "Epoch 4/10\n",
      "31/31 [==============================] - 0s 7ms/step - loss: 0.6156 - accuracy: 0.7099 - auc: 0.5239 - val_loss: 0.6089 - val_accuracy: 0.7161 - val_auc: 0.5189\n",
      "Epoch 5/10\n",
      "31/31 [==============================] - 0s 7ms/step - loss: 0.6106 - accuracy: 0.7099 - auc: 0.5305 - val_loss: 0.6049 - val_accuracy: 0.7161 - val_auc: 0.5238\n",
      "Epoch 6/10\n",
      "31/31 [==============================] - 0s 8ms/step - loss: 0.6073 - accuracy: 0.7099 - auc: 0.5365 - val_loss: 0.6020 - val_accuracy: 0.7161 - val_auc: 0.5306\n",
      "Epoch 7/10\n",
      "31/31 [==============================] - 0s 7ms/step - loss: 0.6046 - accuracy: 0.7099 - auc: 0.5453 - val_loss: 0.5998 - val_accuracy: 0.7161 - val_auc: 0.5378\n",
      "Epoch 8/10\n",
      "31/31 [==============================] - 0s 7ms/step - loss: 0.6024 - accuracy: 0.7099 - auc: 0.5540 - val_loss: 0.5980 - val_accuracy: 0.7161 - val_auc: 0.5443\n",
      "Epoch 9/10\n",
      "31/31 [==============================] - 0s 7ms/step - loss: 0.6005 - accuracy: 0.7099 - auc: 0.5620 - val_loss: 0.5964 - val_accuracy: 0.7161 - val_auc: 0.5512\n",
      "Epoch 10/10\n",
      "31/31 [==============================] - 0s 7ms/step - loss: 0.5988 - accuracy: 0.7099 - auc: 0.5693 - val_loss: 0.5951 - val_accuracy: 0.7161 - val_auc: 0.5576\n"
     ]
    }
   ],
   "source": [
    "# Fit the model\n",
    "start_time = time()\n",
    "no_norm = model.fit(X_train,\n",
    "                    y_train,\n",
    "                    epochs=10,\n",
    "                    batch_size=1000,\n",
    "                    validation_split=0.2,\n",
    "                    verbose=1)\n",
    "delta_time = time() - start_time"
   ]
  },
  {
   "cell_type": "code",
   "execution_count": 10,
   "id": "588270d7",
   "metadata": {
    "ExecuteTime": {
     "end_time": "2023-02-02T13:39:50.132191Z",
     "start_time": "2023-02-02T13:39:49.564258Z"
    }
   },
   "outputs": [
    {
     "name": "stdout",
     "output_type": "stream",
     "text": [
      "399/399 [==============================] - 0s 759us/step\n"
     ]
    },
    {
     "name": "stderr",
     "output_type": "stream",
     "text": [
      "D:\\anaconda\\envs\\staycurios666\\lib\\site-packages\\sklearn\\metrics\\_classification.py:1334: UndefinedMetricWarning: Precision and F-score are ill-defined and being set to 0.0 in labels with no predicted samples. Use `zero_division` parameter to control this behavior.\n",
      "  _warn_prf(average, modifier, msg_start, len(result))\n",
      "D:\\anaconda\\envs\\staycurios666\\lib\\site-packages\\sklearn\\metrics\\_classification.py:1334: UndefinedMetricWarning: Precision and F-score are ill-defined and being set to 0.0 in labels with no predicted samples. Use `zero_division` parameter to control this behavior.\n",
      "  _warn_prf(average, modifier, msg_start, len(result))\n",
      "D:\\anaconda\\envs\\staycurios666\\lib\\site-packages\\sklearn\\metrics\\_classification.py:1334: UndefinedMetricWarning: Precision and F-score are ill-defined and being set to 0.0 in labels with no predicted samples. Use `zero_division` parameter to control this behavior.\n",
      "  _warn_prf(average, modifier, msg_start, len(result))\n"
     ]
    }
   ],
   "source": [
    "predictions = model.predict(X_test)\n",
    "predictions = np.where(predictions >= 0.5, 1,0)\n",
    "list_f1.append(classification_report(y_test, predictions, output_dict=True)[\"1\"][\"f1-score\"])"
   ]
  },
  {
   "cell_type": "code",
   "execution_count": 11,
   "id": "2ea4729c",
   "metadata": {
    "ExecuteTime": {
     "end_time": "2023-02-02T13:39:50.148195Z",
     "start_time": "2023-02-02T13:39:50.133192Z"
    }
   },
   "outputs": [],
   "source": [
    "list_time.append(delta_time)"
   ]
  },
  {
   "cell_type": "markdown",
   "id": "a9186dcf",
   "metadata": {},
   "source": [
    "## Batch Norm"
   ]
  },
  {
   "cell_type": "code",
   "execution_count": 12,
   "id": "77551f5d",
   "metadata": {
    "ExecuteTime": {
     "end_time": "2023-02-02T13:39:50.244217Z",
     "start_time": "2023-02-02T13:39:50.149196Z"
    }
   },
   "outputs": [
    {
     "name": "stdout",
     "output_type": "stream",
     "text": [
      "Model: \"sequential_1\"\n",
      "_________________________________________________________________\n",
      " Layer (type)                Output Shape              Param #   \n",
      "=================================================================\n",
      " dense_5 (Dense)             (None, 512)               29184     \n",
      "                                                                 \n",
      " batch_normalization (BatchN  (None, 512)              2048      \n",
      " ormalization)                                                   \n",
      "                                                                 \n",
      " activation_4 (Activation)   (None, 512)               0         \n",
      "                                                                 \n",
      " dense_6 (Dense)             (None, 256)               131328    \n",
      "                                                                 \n",
      " batch_normalization_1 (Batc  (None, 256)              1024      \n",
      " hNormalization)                                                 \n",
      "                                                                 \n",
      " activation_5 (Activation)   (None, 256)               0         \n",
      "                                                                 \n",
      " dense_7 (Dense)             (None, 128)               32896     \n",
      "                                                                 \n",
      " batch_normalization_2 (Batc  (None, 128)              512       \n",
      " hNormalization)                                                 \n",
      "                                                                 \n",
      " activation_6 (Activation)   (None, 128)               0         \n",
      "                                                                 \n",
      " dense_8 (Dense)             (None, 64)                8256      \n",
      "                                                                 \n",
      " batch_normalization_3 (Batc  (None, 64)               256       \n",
      " hNormalization)                                                 \n",
      "                                                                 \n",
      " activation_7 (Activation)   (None, 64)                0         \n",
      "                                                                 \n",
      " dense_9 (Dense)             (None, 1)                 65        \n",
      "                                                                 \n",
      "=================================================================\n",
      "Total params: 205,569\n",
      "Trainable params: 203,649\n",
      "Non-trainable params: 1,920\n",
      "_________________________________________________________________\n"
     ]
    }
   ],
   "source": [
    "model_batch_norm = Sequential()\n",
    "model_batch_norm.add(Dense(512, input_dim=int(X_train.shape[1])))\n",
    "model_batch_norm.add(BatchNormalization())\n",
    "model_batch_norm.add(Activation('relu'))\n",
    "\n",
    "model_batch_norm.add(Dense(256))\n",
    "model_batch_norm.add(BatchNormalization())\n",
    "model_batch_norm.add(Activation('relu'))\n",
    "\n",
    "model_batch_norm.add(Dense(128))\n",
    "model_batch_norm.add(BatchNormalization())\n",
    "model_batch_norm.add(Activation('relu'))\n",
    "\n",
    "model_batch_norm.add(Dense(64))\n",
    "model_batch_norm.add(BatchNormalization())\n",
    "model_batch_norm.add(Activation('relu'))\n",
    "\n",
    "model_batch_norm.add(Dense(1, activation='sigmoid'))\n",
    "\n",
    "# Compile model\n",
    "model_batch_norm.compile(loss='binary_crossentropy', optimizer = tf.keras.optimizers.Adam(learning_rate=lr), metrics=['accuracy',tf.keras.metrics.AUC()])\n",
    "model_batch_norm.summary()"
   ]
  },
  {
   "cell_type": "code",
   "execution_count": 13,
   "id": "5206c4d4",
   "metadata": {
    "ExecuteTime": {
     "end_time": "2023-02-02T13:39:55.329428Z",
     "start_time": "2023-02-02T13:39:50.245217Z"
    }
   },
   "outputs": [
    {
     "name": "stdout",
     "output_type": "stream",
     "text": [
      "Epoch 1/10\n",
      "31/31 [==============================] - 1s 18ms/step - loss: 0.7436 - accuracy: 0.5056 - auc_1: 0.5040 - val_loss: 0.6990 - val_accuracy: 0.4528 - val_auc_1: 0.4977\n",
      "Epoch 2/10\n",
      "31/31 [==============================] - 0s 12ms/step - loss: 0.7202 - accuracy: 0.5303 - auc_1: 0.5145 - val_loss: 0.7099 - val_accuracy: 0.4336 - val_auc_1: 0.5061\n",
      "Epoch 3/10\n",
      "31/31 [==============================] - 0s 13ms/step - loss: 0.7039 - accuracy: 0.5516 - auc_1: 0.5245 - val_loss: 0.7106 - val_accuracy: 0.4596 - val_auc_1: 0.5139\n",
      "Epoch 4/10\n",
      "31/31 [==============================] - 0s 13ms/step - loss: 0.6895 - accuracy: 0.5685 - auc_1: 0.5350 - val_loss: 0.7056 - val_accuracy: 0.4930 - val_auc_1: 0.5220\n",
      "Epoch 5/10\n",
      "31/31 [==============================] - 0s 12ms/step - loss: 0.6799 - accuracy: 0.5841 - auc_1: 0.5431 - val_loss: 0.6988 - val_accuracy: 0.5250 - val_auc_1: 0.5293\n",
      "Epoch 6/10\n",
      "31/31 [==============================] - 0s 12ms/step - loss: 0.6706 - accuracy: 0.5981 - auc_1: 0.5502 - val_loss: 0.6906 - val_accuracy: 0.5527 - val_auc_1: 0.5351\n",
      "Epoch 7/10\n",
      "31/31 [==============================] - 0s 13ms/step - loss: 0.6627 - accuracy: 0.6123 - auc_1: 0.5574 - val_loss: 0.6813 - val_accuracy: 0.5817 - val_auc_1: 0.5407\n",
      "Epoch 8/10\n",
      "31/31 [==============================] - 0s 13ms/step - loss: 0.6563 - accuracy: 0.6227 - auc_1: 0.5626 - val_loss: 0.6736 - val_accuracy: 0.5997 - val_auc_1: 0.5455\n",
      "Epoch 9/10\n",
      "31/31 [==============================] - 0s 14ms/step - loss: 0.6501 - accuracy: 0.6314 - auc_1: 0.5687 - val_loss: 0.6660 - val_accuracy: 0.6130 - val_auc_1: 0.5490\n",
      "Epoch 10/10\n",
      "31/31 [==============================] - 0s 13ms/step - loss: 0.6441 - accuracy: 0.6378 - auc_1: 0.5736 - val_loss: 0.6594 - val_accuracy: 0.6273 - val_auc_1: 0.5524\n"
     ]
    }
   ],
   "source": [
    "# Fit the model\n",
    "start_time = time()\n",
    "batch_norm = model_batch_norm.fit(X_train,\n",
    "                    y_train,\n",
    "                    epochs=10,\n",
    "                    batch_size=1000,\n",
    "                    validation_split=0.2,\n",
    "                    verbose=1)\n",
    "delta_time = time() - start_time"
   ]
  },
  {
   "cell_type": "code",
   "execution_count": 14,
   "id": "900364d0",
   "metadata": {
    "ExecuteTime": {
     "end_time": "2023-02-02T13:39:55.913799Z",
     "start_time": "2023-02-02T13:39:55.331428Z"
    }
   },
   "outputs": [
    {
     "name": "stdout",
     "output_type": "stream",
     "text": [
      "399/399 [==============================] - 0s 883us/step\n"
     ]
    }
   ],
   "source": [
    "predictions = model_batch_norm.predict(X_test)\n",
    "predictions = np.where(predictions >= 0.5, 1,0)\n",
    "list_f1.append(classification_report(y_test, predictions, output_dict=True)[\"1\"][\"f1-score\"])"
   ]
  },
  {
   "cell_type": "code",
   "execution_count": 15,
   "id": "1714bbbc",
   "metadata": {
    "ExecuteTime": {
     "end_time": "2023-02-02T13:39:55.929802Z",
     "start_time": "2023-02-02T13:39:55.915798Z"
    }
   },
   "outputs": [],
   "source": [
    "list_time.append(delta_time)"
   ]
  },
  {
   "cell_type": "markdown",
   "id": "307d9956",
   "metadata": {},
   "source": [
    "## Batch Norm + drop out:"
   ]
  },
  {
   "cell_type": "code",
   "execution_count": 16,
   "id": "232117bf",
   "metadata": {
    "ExecuteTime": {
     "end_time": "2023-02-02T13:39:56.057834Z",
     "start_time": "2023-02-02T13:39:55.930802Z"
    }
   },
   "outputs": [
    {
     "name": "stdout",
     "output_type": "stream",
     "text": [
      "Model: \"sequential_2\"\n",
      "_________________________________________________________________\n",
      " Layer (type)                Output Shape              Param #   \n",
      "=================================================================\n",
      " dense_10 (Dense)            (None, 512)               29184     \n",
      "                                                                 \n",
      " batch_normalization_4 (Batc  (None, 512)              2048      \n",
      " hNormalization)                                                 \n",
      "                                                                 \n",
      " activation_8 (Activation)   (None, 512)               0         \n",
      "                                                                 \n",
      " dropout (Dropout)           (None, 512)               0         \n",
      "                                                                 \n",
      " dense_11 (Dense)            (None, 256)               131328    \n",
      "                                                                 \n",
      " batch_normalization_5 (Batc  (None, 256)              1024      \n",
      " hNormalization)                                                 \n",
      "                                                                 \n",
      " activation_9 (Activation)   (None, 256)               0         \n",
      "                                                                 \n",
      " dropout_1 (Dropout)         (None, 256)               0         \n",
      "                                                                 \n",
      " dense_12 (Dense)            (None, 128)               32896     \n",
      "                                                                 \n",
      " batch_normalization_6 (Batc  (None, 128)              512       \n",
      " hNormalization)                                                 \n",
      "                                                                 \n",
      " activation_10 (Activation)  (None, 128)               0         \n",
      "                                                                 \n",
      " dropout_2 (Dropout)         (None, 128)               0         \n",
      "                                                                 \n",
      " dense_13 (Dense)            (None, 64)                8256      \n",
      "                                                                 \n",
      " batch_normalization_7 (Batc  (None, 64)               256       \n",
      " hNormalization)                                                 \n",
      "                                                                 \n",
      " activation_11 (Activation)  (None, 64)                0         \n",
      "                                                                 \n",
      " dropout_3 (Dropout)         (None, 64)                0         \n",
      "                                                                 \n",
      " dense_14 (Dense)            (None, 1)                 65        \n",
      "                                                                 \n",
      "=================================================================\n",
      "Total params: 205,569\n",
      "Trainable params: 203,649\n",
      "Non-trainable params: 1,920\n",
      "_________________________________________________________________\n"
     ]
    }
   ],
   "source": [
    "model_batch_drop = Sequential()\n",
    "model_batch_drop.add(Dense(512, input_dim=int(X_train.shape[1])))\n",
    "model_batch_drop.add(BatchNormalization())\n",
    "model_batch_drop.add(Activation('relu'))\n",
    "model_batch_drop.add(Dropout(0.5))\n",
    "\n",
    "model_batch_drop.add(Dense(256))\n",
    "model_batch_drop.add(BatchNormalization())\n",
    "model_batch_drop.add(Activation('relu'))\n",
    "model_batch_drop.add(Dropout(0.5))\n",
    "\n",
    "model_batch_drop.add(Dense(128))\n",
    "model_batch_drop.add(BatchNormalization())\n",
    "model_batch_drop.add(Activation('relu'))\n",
    "model_batch_drop.add(Dropout(0.5))\n",
    "\n",
    "model_batch_drop.add(Dense(64))\n",
    "model_batch_drop.add(BatchNormalization())\n",
    "model_batch_drop.add(Activation('relu'))\n",
    "model_batch_drop.add(Dropout(0.5))\n",
    "\n",
    "model_batch_drop.add(Dense(1, activation='sigmoid'))\n",
    "\n",
    "# Compile model\n",
    "model_batch_drop.compile(loss='binary_crossentropy', optimizer = tf.keras.optimizers.Adam(learning_rate=lr), metrics=['accuracy',tf.keras.metrics.AUC()])\n",
    "model_batch_drop.summary()"
   ]
  },
  {
   "cell_type": "code",
   "execution_count": 17,
   "id": "01c10653",
   "metadata": {
    "ExecuteTime": {
     "end_time": "2023-02-02T13:40:02.493924Z",
     "start_time": "2023-02-02T13:39:56.059831Z"
    }
   },
   "outputs": [
    {
     "name": "stdout",
     "output_type": "stream",
     "text": [
      "Epoch 1/10\n",
      "31/31 [==============================] - 2s 24ms/step - loss: 0.8111 - accuracy: 0.5324 - auc_2: 0.4946 - val_loss: 0.6775 - val_accuracy: 0.6219 - val_auc_2: 0.5010\n",
      "Epoch 2/10\n",
      "31/31 [==============================] - 1s 17ms/step - loss: 0.7944 - accuracy: 0.5349 - auc_2: 0.5019 - val_loss: 0.6791 - val_accuracy: 0.6021 - val_auc_2: 0.5083\n",
      "Epoch 3/10\n",
      "31/31 [==============================] - 1s 17ms/step - loss: 0.8012 - accuracy: 0.5390 - auc_2: 0.4975 - val_loss: 0.6783 - val_accuracy: 0.6087 - val_auc_2: 0.5096\n",
      "Epoch 4/10\n",
      "31/31 [==============================] - 0s 16ms/step - loss: 0.7983 - accuracy: 0.5389 - auc_2: 0.4989 - val_loss: 0.6774 - val_accuracy: 0.6103 - val_auc_2: 0.5111\n",
      "Epoch 5/10\n",
      "31/31 [==============================] - 1s 17ms/step - loss: 0.7983 - accuracy: 0.5394 - auc_2: 0.4947 - val_loss: 0.6759 - val_accuracy: 0.6142 - val_auc_2: 0.5133\n",
      "Epoch 6/10\n",
      "31/31 [==============================] - 1s 16ms/step - loss: 0.7903 - accuracy: 0.5424 - auc_2: 0.5057 - val_loss: 0.6742 - val_accuracy: 0.6201 - val_auc_2: 0.5150\n",
      "Epoch 7/10\n",
      "31/31 [==============================] - 1s 17ms/step - loss: 0.7898 - accuracy: 0.5467 - auc_2: 0.5029 - val_loss: 0.6721 - val_accuracy: 0.6298 - val_auc_2: 0.5157\n",
      "Epoch 8/10\n",
      "31/31 [==============================] - 1s 17ms/step - loss: 0.7904 - accuracy: 0.5482 - auc_2: 0.5003 - val_loss: 0.6700 - val_accuracy: 0.6386 - val_auc_2: 0.5171\n",
      "Epoch 9/10\n",
      "31/31 [==============================] - 1s 17ms/step - loss: 0.7896 - accuracy: 0.5489 - auc_2: 0.5015 - val_loss: 0.6684 - val_accuracy: 0.6458 - val_auc_2: 0.5186\n",
      "Epoch 10/10\n",
      "31/31 [==============================] - 0s 16ms/step - loss: 0.7791 - accuracy: 0.5535 - auc_2: 0.5038 - val_loss: 0.6666 - val_accuracy: 0.6520 - val_auc_2: 0.5207\n"
     ]
    }
   ],
   "source": [
    "# Fit the model\n",
    "start_time = time()\n",
    "batch_drop = model_batch_drop.fit(X_train,\n",
    "                    y_train,\n",
    "                    epochs=10,\n",
    "                    batch_size=1000,\n",
    "                    validation_split=0.2,\n",
    "                    verbose=1)\n",
    "delta_time = time() - start_time"
   ]
  },
  {
   "cell_type": "code",
   "execution_count": 18,
   "id": "2a7fa39f",
   "metadata": {
    "ExecuteTime": {
     "end_time": "2023-02-02T13:40:03.017149Z",
     "start_time": "2023-02-02T13:40:02.494924Z"
    }
   },
   "outputs": [
    {
     "name": "stdout",
     "output_type": "stream",
     "text": [
      "399/399 [==============================] - 0s 797us/step\n"
     ]
    }
   ],
   "source": [
    "predictions = model_batch_drop.predict(X_test)\n",
    "predictions = np.where(predictions >= 0.5, 1,0)\n",
    "list_f1.append(classification_report(y_test, predictions, output_dict=True)[\"1\"][\"f1-score\"])"
   ]
  },
  {
   "cell_type": "code",
   "execution_count": 19,
   "id": "4afa654d",
   "metadata": {
    "ExecuteTime": {
     "end_time": "2023-02-02T13:40:03.032852Z",
     "start_time": "2023-02-02T13:40:03.018151Z"
    }
   },
   "outputs": [],
   "source": [
    "list_time.append(delta_time)"
   ]
  },
  {
   "cell_type": "markdown",
   "id": "5059e105",
   "metadata": {},
   "source": [
    "## Group Norm"
   ]
  },
  {
   "cell_type": "code",
   "execution_count": 20,
   "id": "30d42529",
   "metadata": {
    "ExecuteTime": {
     "end_time": "2023-02-02T13:40:03.431883Z",
     "start_time": "2023-02-02T13:40:03.033870Z"
    }
   },
   "outputs": [
    {
     "name": "stdout",
     "output_type": "stream",
     "text": [
      "Model: \"sequential_3\"\n",
      "_________________________________________________________________\n",
      " Layer (type)                Output Shape              Param #   \n",
      "=================================================================\n",
      " dense_15 (Dense)            (None, 512)               29184     \n",
      "                                                                 \n",
      " group_normalization (GroupN  (None, 512)              1024      \n",
      " ormalization)                                                   \n",
      "                                                                 \n",
      " activation_12 (Activation)  (None, 512)               0         \n",
      "                                                                 \n",
      " dense_16 (Dense)            (None, 256)               131328    \n",
      "                                                                 \n",
      " group_normalization_1 (Grou  (None, 256)              512       \n",
      " pNormalization)                                                 \n",
      "                                                                 \n",
      " activation_13 (Activation)  (None, 256)               0         \n",
      "                                                                 \n",
      " dense_17 (Dense)            (None, 128)               32896     \n",
      "                                                                 \n",
      " group_normalization_2 (Grou  (None, 128)              256       \n",
      " pNormalization)                                                 \n",
      "                                                                 \n",
      " activation_14 (Activation)  (None, 128)               0         \n",
      "                                                                 \n",
      " dense_18 (Dense)            (None, 64)                8256      \n",
      "                                                                 \n",
      " group_normalization_3 (Grou  (None, 64)               128       \n",
      " pNormalization)                                                 \n",
      "                                                                 \n",
      " activation_15 (Activation)  (None, 64)                0         \n",
      "                                                                 \n",
      " dense_19 (Dense)            (None, 1)                 65        \n",
      "                                                                 \n",
      "=================================================================\n",
      "Total params: 203,649\n",
      "Trainable params: 203,649\n",
      "Non-trainable params: 0\n",
      "_________________________________________________________________\n"
     ]
    }
   ],
   "source": [
    "model_group_norm = Sequential()\n",
    "model_group_norm.add(Dense(512, input_dim=int(X_train.shape[1])))\n",
    "model_group_norm.add(GroupNormalization())\n",
    "model_group_norm.add(Activation('relu'))\n",
    "\n",
    "model_group_norm.add(Dense(256))\n",
    "model_group_norm.add(GroupNormalization())\n",
    "model_group_norm.add(Activation('relu'))\n",
    "\n",
    "model_group_norm.add(Dense(128))\n",
    "model_group_norm.add(GroupNormalization())\n",
    "model_group_norm.add(Activation('relu'))\n",
    "\n",
    "model_group_norm.add(Dense(64))\n",
    "model_group_norm.add(GroupNormalization())\n",
    "model_group_norm.add(Activation('relu'))\n",
    "\n",
    "model_group_norm.add(Dense(1, activation='sigmoid'))\n",
    "\n",
    "# Compile model\n",
    "model_group_norm.compile(loss='binary_crossentropy', optimizer = tf.keras.optimizers.Adam(learning_rate=lr), metrics=['accuracy',tf.keras.metrics.AUC()])\n",
    "model_group_norm.summary()"
   ]
  },
  {
   "cell_type": "code",
   "execution_count": 21,
   "id": "2f8b346f",
   "metadata": {
    "ExecuteTime": {
     "end_time": "2023-02-02T13:40:10.507893Z",
     "start_time": "2023-02-02T13:40:03.432887Z"
    }
   },
   "outputs": [
    {
     "name": "stdout",
     "output_type": "stream",
     "text": [
      "Epoch 1/10\n",
      "31/31 [==============================] - 2s 29ms/step - loss: 0.7067 - accuracy: 0.7096 - auc_3: 0.4915 - val_loss: 0.6798 - val_accuracy: 0.7157 - val_auc_3: 0.4827\n",
      "Epoch 2/10\n",
      "31/31 [==============================] - 1s 17ms/step - loss: 0.6713 - accuracy: 0.7083 - auc_3: 0.4955 - val_loss: 0.6537 - val_accuracy: 0.7135 - val_auc_3: 0.4831\n",
      "Epoch 3/10\n",
      "31/31 [==============================] - 1s 17ms/step - loss: 0.6476 - accuracy: 0.7069 - auc_3: 0.4995 - val_loss: 0.6383 - val_accuracy: 0.7114 - val_auc_3: 0.4850\n",
      "Epoch 4/10\n",
      "31/31 [==============================] - 1s 17ms/step - loss: 0.6325 - accuracy: 0.7059 - auc_3: 0.5100 - val_loss: 0.6304 - val_accuracy: 0.7099 - val_auc_3: 0.4897\n",
      "Epoch 5/10\n",
      "31/31 [==============================] - 1s 18ms/step - loss: 0.6240 - accuracy: 0.7055 - auc_3: 0.5193 - val_loss: 0.6266 - val_accuracy: 0.7085 - val_auc_3: 0.4912\n",
      "Epoch 6/10\n",
      "31/31 [==============================] - 1s 21ms/step - loss: 0.6180 - accuracy: 0.7055 - auc_3: 0.5293 - val_loss: 0.6235 - val_accuracy: 0.7081 - val_auc_3: 0.4950\n",
      "Epoch 7/10\n",
      "31/31 [==============================] - 1s 19ms/step - loss: 0.6132 - accuracy: 0.7057 - auc_3: 0.5403 - val_loss: 0.6223 - val_accuracy: 0.7075 - val_auc_3: 0.4968\n",
      "Epoch 8/10\n",
      "31/31 [==============================] - 1s 20ms/step - loss: 0.6096 - accuracy: 0.7063 - auc_3: 0.5498 - val_loss: 0.6210 - val_accuracy: 0.7080 - val_auc_3: 0.4996\n",
      "Epoch 9/10\n",
      "31/31 [==============================] - 1s 18ms/step - loss: 0.6064 - accuracy: 0.7068 - auc_3: 0.5582 - val_loss: 0.6204 - val_accuracy: 0.7090 - val_auc_3: 0.5006\n",
      "Epoch 10/10\n",
      "31/31 [==============================] - 1s 20ms/step - loss: 0.6037 - accuracy: 0.7077 - auc_3: 0.5658 - val_loss: 0.6195 - val_accuracy: 0.7086 - val_auc_3: 0.5022\n"
     ]
    }
   ],
   "source": [
    "# Fit the model\n",
    "start_time = time()\n",
    "group_norm = model_group_norm.fit(X_train,\n",
    "                    y_train,\n",
    "                    epochs=10,\n",
    "                    batch_size=1000,\n",
    "                    validation_split=0.2,\n",
    "                    verbose=1)\n",
    "delta_time = time() - start_time"
   ]
  },
  {
   "cell_type": "code",
   "execution_count": 22,
   "id": "b45f4995",
   "metadata": {
    "ExecuteTime": {
     "end_time": "2023-02-02T13:40:11.162138Z",
     "start_time": "2023-02-02T13:40:10.508895Z"
    }
   },
   "outputs": [
    {
     "name": "stdout",
     "output_type": "stream",
     "text": [
      "399/399 [==============================] - 1s 995us/step\n"
     ]
    }
   ],
   "source": [
    "predictions = model_group_norm.predict(X_test)\n",
    "predictions = np.where(predictions >= 0.5, 1,0)\n",
    "list_f1.append(classification_report(y_test, predictions, output_dict=True)[\"1\"][\"f1-score\"])"
   ]
  },
  {
   "cell_type": "code",
   "execution_count": 23,
   "id": "789b7c24",
   "metadata": {
    "ExecuteTime": {
     "end_time": "2023-02-02T13:40:11.178142Z",
     "start_time": "2023-02-02T13:40:11.163139Z"
    }
   },
   "outputs": [],
   "source": [
    "list_time.append(delta_time)"
   ]
  },
  {
   "cell_type": "markdown",
   "id": "07306e64",
   "metadata": {},
   "source": [
    "## Group Norm + Dropout"
   ]
  },
  {
   "cell_type": "code",
   "execution_count": 24,
   "id": "e7b3789b",
   "metadata": {
    "ExecuteTime": {
     "end_time": "2023-02-02T13:40:11.322175Z",
     "start_time": "2023-02-02T13:40:11.179142Z"
    }
   },
   "outputs": [
    {
     "name": "stdout",
     "output_type": "stream",
     "text": [
      "Model: \"sequential_4\"\n",
      "_________________________________________________________________\n",
      " Layer (type)                Output Shape              Param #   \n",
      "=================================================================\n",
      " dense_20 (Dense)            (None, 512)               29184     \n",
      "                                                                 \n",
      " group_normalization_4 (Grou  (None, 512)              1024      \n",
      " pNormalization)                                                 \n",
      "                                                                 \n",
      " activation_16 (Activation)  (None, 512)               0         \n",
      "                                                                 \n",
      " dropout_4 (Dropout)         (None, 512)               0         \n",
      "                                                                 \n",
      " dense_21 (Dense)            (None, 256)               131328    \n",
      "                                                                 \n",
      " group_normalization_5 (Grou  (None, 256)              512       \n",
      " pNormalization)                                                 \n",
      "                                                                 \n",
      " activation_17 (Activation)  (None, 256)               0         \n",
      "                                                                 \n",
      " dropout_5 (Dropout)         (None, 256)               0         \n",
      "                                                                 \n",
      " dense_22 (Dense)            (None, 128)               32896     \n",
      "                                                                 \n",
      " group_normalization_6 (Grou  (None, 128)              256       \n",
      " pNormalization)                                                 \n",
      "                                                                 \n",
      " activation_18 (Activation)  (None, 128)               0         \n",
      "                                                                 \n",
      " dropout_6 (Dropout)         (None, 128)               0         \n",
      "                                                                 \n",
      " dense_23 (Dense)            (None, 64)                8256      \n",
      "                                                                 \n",
      " group_normalization_7 (Grou  (None, 64)               128       \n",
      " pNormalization)                                                 \n",
      "                                                                 \n",
      " activation_19 (Activation)  (None, 64)                0         \n",
      "                                                                 \n",
      " dropout_7 (Dropout)         (None, 64)                0         \n",
      "                                                                 \n",
      " dense_24 (Dense)            (None, 1)                 65        \n",
      "                                                                 \n",
      "=================================================================\n",
      "Total params: 203,649\n",
      "Trainable params: 203,649\n",
      "Non-trainable params: 0\n",
      "_________________________________________________________________\n"
     ]
    }
   ],
   "source": [
    "model_group_drop = Sequential()\n",
    "model_group_drop.add(Dense(512, input_dim=int(X_train.shape[1])))\n",
    "model_group_drop.add(GroupNormalization())\n",
    "model_group_drop.add(Activation('relu'))\n",
    "model_group_drop.add(Dropout(0.5))\n",
    "\n",
    "model_group_drop.add(Dense(256))\n",
    "model_group_drop.add(GroupNormalization())\n",
    "model_group_drop.add(Activation('relu'))\n",
    "model_group_drop.add(Dropout(0.5))\n",
    "\n",
    "model_group_drop.add(Dense(128))\n",
    "model_group_drop.add(GroupNormalization())\n",
    "model_group_drop.add(Activation('relu'))\n",
    "model_group_drop.add(Dropout(0.5))\n",
    "\n",
    "model_group_drop.add(Dense(64))\n",
    "model_group_drop.add(GroupNormalization())\n",
    "model_group_drop.add(Activation('relu'))\n",
    "model_group_drop.add(Dropout(0.5))\n",
    "\n",
    "model_group_drop.add(Dense(1, activation='sigmoid'))\n",
    "\n",
    "# Compile model\n",
    "model_group_drop.compile(loss='binary_crossentropy', optimizer = tf.keras.optimizers.Adam(learning_rate=lr), metrics=['accuracy',tf.keras.metrics.AUC()])\n",
    "model_group_drop.summary()"
   ]
  },
  {
   "cell_type": "code",
   "execution_count": 25,
   "id": "3f560750",
   "metadata": {
    "ExecuteTime": {
     "end_time": "2023-02-02T13:40:20.060060Z",
     "start_time": "2023-02-02T13:40:11.323175Z"
    }
   },
   "outputs": [
    {
     "name": "stdout",
     "output_type": "stream",
     "text": [
      "Epoch 1/10\n",
      "31/31 [==============================] - 2s 31ms/step - loss: 0.9415 - accuracy: 0.4460 - auc_4: 0.4951 - val_loss: 0.8308 - val_accuracy: 0.3960 - val_auc_4: 0.4921\n",
      "Epoch 2/10\n",
      "31/31 [==============================] - 1s 25ms/step - loss: 0.9166 - accuracy: 0.4557 - auc_4: 0.4950 - val_loss: 0.7774 - val_accuracy: 0.4429 - val_auc_4: 0.4935\n",
      "Epoch 3/10\n",
      "31/31 [==============================] - 1s 24ms/step - loss: 0.8945 - accuracy: 0.4677 - auc_4: 0.4918 - val_loss: 0.7384 - val_accuracy: 0.4942 - val_auc_4: 0.4955\n",
      "Epoch 4/10\n",
      "31/31 [==============================] - 1s 23ms/step - loss: 0.8744 - accuracy: 0.4789 - auc_4: 0.4958 - val_loss: 0.7045 - val_accuracy: 0.5496 - val_auc_4: 0.4968\n",
      "Epoch 5/10\n",
      "31/31 [==============================] - 1s 23ms/step - loss: 0.8512 - accuracy: 0.4954 - auc_4: 0.4997 - val_loss: 0.6771 - val_accuracy: 0.5947 - val_auc_4: 0.4953\n",
      "Epoch 6/10\n",
      "31/31 [==============================] - 1s 24ms/step - loss: 0.8369 - accuracy: 0.5030 - auc_4: 0.4996 - val_loss: 0.6573 - val_accuracy: 0.6311 - val_auc_4: 0.4957\n",
      "Epoch 7/10\n",
      "31/31 [==============================] - 1s 23ms/step - loss: 0.8231 - accuracy: 0.5163 - auc_4: 0.5007 - val_loss: 0.6417 - val_accuracy: 0.6586 - val_auc_4: 0.4987\n",
      "Epoch 8/10\n",
      "31/31 [==============================] - 1s 24ms/step - loss: 0.8115 - accuracy: 0.5274 - auc_4: 0.4972 - val_loss: 0.6327 - val_accuracy: 0.6755 - val_auc_4: 0.4969\n",
      "Epoch 9/10\n",
      "31/31 [==============================] - 1s 24ms/step - loss: 0.8057 - accuracy: 0.5276 - auc_4: 0.4939 - val_loss: 0.6276 - val_accuracy: 0.6905 - val_auc_4: 0.4937\n",
      "Epoch 10/10\n",
      "31/31 [==============================] - 1s 24ms/step - loss: 0.7913 - accuracy: 0.5424 - auc_4: 0.4976 - val_loss: 0.6242 - val_accuracy: 0.6998 - val_auc_4: 0.4936\n"
     ]
    }
   ],
   "source": [
    "# Fit the model\n",
    "start_time = time()\n",
    "group_norm_drop = model_group_drop.fit(X_train,\n",
    "                    y_train,\n",
    "                    epochs=10,\n",
    "                    batch_size=1000,\n",
    "                    validation_split=0.2,\n",
    "                    verbose=1)\n",
    "delta_time = time() - start_time"
   ]
  },
  {
   "cell_type": "code",
   "execution_count": 26,
   "id": "12ae15f0",
   "metadata": {
    "ExecuteTime": {
     "end_time": "2023-02-02T13:40:20.727035Z",
     "start_time": "2023-02-02T13:40:20.061062Z"
    }
   },
   "outputs": [
    {
     "name": "stdout",
     "output_type": "stream",
     "text": [
      "399/399 [==============================] - 1s 988us/step\n"
     ]
    }
   ],
   "source": [
    "predictions = model_group_drop.predict(X_test)\n",
    "predictions = np.where(predictions >= 0.5, 1,0)\n",
    "list_f1.append(classification_report(y_test, predictions, output_dict=True)[\"1\"][\"f1-score\"])"
   ]
  },
  {
   "cell_type": "code",
   "execution_count": 27,
   "id": "601dc11e",
   "metadata": {
    "ExecuteTime": {
     "end_time": "2023-02-02T13:40:20.742217Z",
     "start_time": "2023-02-02T13:40:20.732045Z"
    }
   },
   "outputs": [],
   "source": [
    "list_time.append(delta_time)"
   ]
  },
  {
   "cell_type": "markdown",
   "id": "077efd68",
   "metadata": {},
   "source": [
    "## Layer Norm"
   ]
  },
  {
   "cell_type": "code",
   "execution_count": 28,
   "id": "1d2659a5",
   "metadata": {
    "ExecuteTime": {
     "end_time": "2023-02-02T13:40:20.854243Z",
     "start_time": "2023-02-02T13:40:20.743217Z"
    }
   },
   "outputs": [
    {
     "name": "stdout",
     "output_type": "stream",
     "text": [
      "Model: \"sequential_5\"\n",
      "_________________________________________________________________\n",
      " Layer (type)                Output Shape              Param #   \n",
      "=================================================================\n",
      " dense_25 (Dense)            (None, 512)               29184     \n",
      "                                                                 \n",
      " layer_normalization (LayerN  (None, 512)              1024      \n",
      " ormalization)                                                   \n",
      "                                                                 \n",
      " activation_20 (Activation)  (None, 512)               0         \n",
      "                                                                 \n",
      " dense_26 (Dense)            (None, 256)               131328    \n",
      "                                                                 \n",
      " layer_normalization_1 (Laye  (None, 256)              512       \n",
      " rNormalization)                                                 \n",
      "                                                                 \n",
      " activation_21 (Activation)  (None, 256)               0         \n",
      "                                                                 \n",
      " dense_27 (Dense)            (None, 128)               32896     \n",
      "                                                                 \n",
      " layer_normalization_2 (Laye  (None, 128)              256       \n",
      " rNormalization)                                                 \n",
      "                                                                 \n",
      " activation_22 (Activation)  (None, 128)               0         \n",
      "                                                                 \n",
      " dense_28 (Dense)            (None, 64)                8256      \n",
      "                                                                 \n",
      " layer_normalization_3 (Laye  (None, 64)               128       \n",
      " rNormalization)                                                 \n",
      "                                                                 \n",
      " activation_23 (Activation)  (None, 64)                0         \n",
      "                                                                 \n",
      " dense_29 (Dense)            (None, 1)                 65        \n",
      "                                                                 \n",
      "=================================================================\n",
      "Total params: 203,649\n",
      "Trainable params: 203,649\n",
      "Non-trainable params: 0\n",
      "_________________________________________________________________\n"
     ]
    }
   ],
   "source": [
    "model_layer_norm = Sequential()\n",
    "model_layer_norm.add(Dense(512, input_dim=int(X_train.shape[1])))\n",
    "model_layer_norm.add(LayerNormalization())\n",
    "model_layer_norm.add(Activation('relu'))\n",
    "\n",
    "model_layer_norm.add(Dense(256))\n",
    "model_layer_norm.add(LayerNormalization())\n",
    "model_layer_norm.add(Activation('relu'))\n",
    "\n",
    "model_layer_norm.add(Dense(128))\n",
    "model_layer_norm.add(LayerNormalization())\n",
    "model_layer_norm.add(Activation('relu'))\n",
    "\n",
    "model_layer_norm.add(Dense(64))\n",
    "model_layer_norm.add(LayerNormalization())\n",
    "model_layer_norm.add(Activation('relu'))\n",
    "\n",
    "model_layer_norm.add(Dense(1, activation='sigmoid'))\n",
    "\n",
    "# Compile model\n",
    "model_layer_norm.compile(loss='binary_crossentropy', optimizer = tf.keras.optimizers.Adam(learning_rate=lr), metrics=['accuracy',tf.keras.metrics.AUC()])\n",
    "model_layer_norm.summary()"
   ]
  },
  {
   "cell_type": "code",
   "execution_count": 29,
   "id": "d552c93d",
   "metadata": {
    "ExecuteTime": {
     "end_time": "2023-02-02T13:40:27.246609Z",
     "start_time": "2023-02-02T13:40:20.855243Z"
    }
   },
   "outputs": [
    {
     "name": "stdout",
     "output_type": "stream",
     "text": [
      "Epoch 1/10\n",
      "31/31 [==============================] - 1s 25ms/step - loss: 0.7644 - accuracy: 0.4646 - auc_5: 0.5000 - val_loss: 0.6645 - val_accuracy: 0.6015 - val_auc_5: 0.5165\n",
      "Epoch 2/10\n",
      "31/31 [==============================] - 1s 18ms/step - loss: 0.6418 - accuracy: 0.6530 - auc_5: 0.5049 - val_loss: 0.6144 - val_accuracy: 0.6987 - val_auc_5: 0.5226\n",
      "Epoch 3/10\n",
      "31/31 [==============================] - 1s 17ms/step - loss: 0.6199 - accuracy: 0.6964 - auc_5: 0.5124 - val_loss: 0.6064 - val_accuracy: 0.7090 - val_auc_5: 0.5323\n",
      "Epoch 4/10\n",
      "31/31 [==============================] - 1s 18ms/step - loss: 0.6141 - accuracy: 0.7025 - auc_5: 0.5244 - val_loss: 0.6028 - val_accuracy: 0.7105 - val_auc_5: 0.5417\n",
      "Epoch 5/10\n",
      "31/31 [==============================] - 1s 17ms/step - loss: 0.6101 - accuracy: 0.7041 - auc_5: 0.5356 - val_loss: 0.6002 - val_accuracy: 0.7115 - val_auc_5: 0.5492\n",
      "Epoch 6/10\n",
      "31/31 [==============================] - 1s 17ms/step - loss: 0.6068 - accuracy: 0.7045 - auc_5: 0.5453 - val_loss: 0.5982 - val_accuracy: 0.7111 - val_auc_5: 0.5557\n",
      "Epoch 7/10\n",
      "31/31 [==============================] - 1s 17ms/step - loss: 0.6041 - accuracy: 0.7053 - auc_5: 0.5540 - val_loss: 0.5966 - val_accuracy: 0.7111 - val_auc_5: 0.5606\n",
      "Epoch 8/10\n",
      "31/31 [==============================] - 1s 18ms/step - loss: 0.6017 - accuracy: 0.7065 - auc_5: 0.5615 - val_loss: 0.5952 - val_accuracy: 0.7119 - val_auc_5: 0.5645\n",
      "Epoch 9/10\n",
      "31/31 [==============================] - 1s 17ms/step - loss: 0.5996 - accuracy: 0.7068 - auc_5: 0.5681 - val_loss: 0.5941 - val_accuracy: 0.7123 - val_auc_5: 0.5684\n",
      "Epoch 10/10\n",
      "31/31 [==============================] - 1s 18ms/step - loss: 0.5977 - accuracy: 0.7071 - auc_5: 0.5742 - val_loss: 0.5931 - val_accuracy: 0.7123 - val_auc_5: 0.5718\n"
     ]
    }
   ],
   "source": [
    "# Fit the model\n",
    "start_time = time()\n",
    "layer_norm = model_layer_norm.fit(X_train,\n",
    "                    y_train,\n",
    "                    epochs=10,\n",
    "                    batch_size=1000,\n",
    "                    validation_split=0.2,\n",
    "                    verbose=1)\n",
    "delta_time = time() - start_time"
   ]
  },
  {
   "cell_type": "code",
   "execution_count": 30,
   "id": "2c9dd8b0",
   "metadata": {
    "ExecuteTime": {
     "end_time": "2023-02-02T13:40:28.030288Z",
     "start_time": "2023-02-02T13:40:27.247609Z"
    }
   },
   "outputs": [
    {
     "name": "stdout",
     "output_type": "stream",
     "text": [
      "399/399 [==============================] - 1s 1ms/step\n"
     ]
    }
   ],
   "source": [
    "predictions = model_layer_norm.predict(X_test)\n",
    "predictions = np.where(predictions >= 0.5, 1,0)\n",
    "list_f1.append(classification_report(y_test, predictions, output_dict=True)[\"1\"][\"f1-score\"])"
   ]
  },
  {
   "cell_type": "code",
   "execution_count": 31,
   "id": "b4709398",
   "metadata": {
    "ExecuteTime": {
     "end_time": "2023-02-02T13:40:28.046291Z",
     "start_time": "2023-02-02T13:40:28.031288Z"
    }
   },
   "outputs": [],
   "source": [
    "list_time.append(delta_time)"
   ]
  },
  {
   "cell_type": "markdown",
   "id": "b59b1d6f",
   "metadata": {},
   "source": [
    "## Layer Norm + Dropout"
   ]
  },
  {
   "cell_type": "code",
   "execution_count": 32,
   "id": "ade5f955",
   "metadata": {
    "ExecuteTime": {
     "end_time": "2023-02-02T13:40:28.222332Z",
     "start_time": "2023-02-02T13:40:28.047292Z"
    }
   },
   "outputs": [
    {
     "name": "stdout",
     "output_type": "stream",
     "text": [
      "Model: \"sequential_6\"\n",
      "_________________________________________________________________\n",
      " Layer (type)                Output Shape              Param #   \n",
      "=================================================================\n",
      " dense_30 (Dense)            (None, 512)               29184     \n",
      "                                                                 \n",
      " layer_normalization_4 (Laye  (None, 512)              1024      \n",
      " rNormalization)                                                 \n",
      "                                                                 \n",
      " activation_24 (Activation)  (None, 512)               0         \n",
      "                                                                 \n",
      " dropout_8 (Dropout)         (None, 512)               0         \n",
      "                                                                 \n",
      " dense_31 (Dense)            (None, 256)               131328    \n",
      "                                                                 \n",
      " layer_normalization_5 (Laye  (None, 256)              512       \n",
      " rNormalization)                                                 \n",
      "                                                                 \n",
      " activation_25 (Activation)  (None, 256)               0         \n",
      "                                                                 \n",
      " dropout_9 (Dropout)         (None, 256)               0         \n",
      "                                                                 \n",
      " dense_32 (Dense)            (None, 128)               32896     \n",
      "                                                                 \n",
      " layer_normalization_6 (Laye  (None, 128)              256       \n",
      " rNormalization)                                                 \n",
      "                                                                 \n",
      " activation_26 (Activation)  (None, 128)               0         \n",
      "                                                                 \n",
      " dropout_10 (Dropout)        (None, 128)               0         \n",
      "                                                                 \n",
      " dense_33 (Dense)            (None, 64)                8256      \n",
      "                                                                 \n",
      " layer_normalization_7 (Laye  (None, 64)               128       \n",
      " rNormalization)                                                 \n",
      "                                                                 \n",
      " activation_27 (Activation)  (None, 64)                0         \n",
      "                                                                 \n",
      " dropout_11 (Dropout)        (None, 64)                0         \n",
      "                                                                 \n",
      " dense_34 (Dense)            (None, 1)                 65        \n",
      "                                                                 \n",
      "=================================================================\n",
      "Total params: 203,649\n",
      "Trainable params: 203,649\n",
      "Non-trainable params: 0\n",
      "_________________________________________________________________\n"
     ]
    }
   ],
   "source": [
    "model_layer_drop = Sequential()\n",
    "model_layer_drop.add(Dense(512, input_dim=int(X_train.shape[1])))\n",
    "model_layer_drop.add(LayerNormalization())\n",
    "model_layer_drop.add(Activation('relu'))\n",
    "model_layer_drop.add(Dropout(0.5))\n",
    "\n",
    "model_layer_drop.add(Dense(256))\n",
    "model_layer_drop.add(LayerNormalization())\n",
    "model_layer_drop.add(Activation('relu'))\n",
    "model_layer_drop.add(Dropout(0.5))\n",
    "\n",
    "model_layer_drop.add(Dense(128))\n",
    "model_layer_drop.add(LayerNormalization())\n",
    "model_layer_drop.add(Activation('relu'))\n",
    "model_layer_drop.add(Dropout(0.5))\n",
    "\n",
    "model_layer_drop.add(Dense(64))\n",
    "model_layer_drop.add(LayerNormalization())\n",
    "model_layer_drop.add(Activation('relu'))\n",
    "model_layer_drop.add(Dropout(0.5))\n",
    "\n",
    "model_layer_drop.add(Dense(1, activation='sigmoid'))\n",
    "\n",
    "# Compile model\n",
    "model_layer_drop.compile(loss='binary_crossentropy', optimizer = tf.keras.optimizers.Adam(learning_rate=lr), metrics=['accuracy',tf.keras.metrics.AUC()])\n",
    "model_layer_drop.summary()"
   ]
  },
  {
   "cell_type": "code",
   "execution_count": 33,
   "id": "fed788fa",
   "metadata": {
    "ExecuteTime": {
     "end_time": "2023-02-02T13:40:36.663763Z",
     "start_time": "2023-02-02T13:40:28.225332Z"
    }
   },
   "outputs": [
    {
     "name": "stdout",
     "output_type": "stream",
     "text": [
      "Epoch 1/10\n",
      "31/31 [==============================] - 2s 30ms/step - loss: 0.7698 - accuracy: 0.5633 - auc_6: 0.4959 - val_loss: 0.6200 - val_accuracy: 0.6898 - val_auc_6: 0.5279\n",
      "Epoch 2/10\n",
      "31/31 [==============================] - 1s 24ms/step - loss: 0.7511 - accuracy: 0.5904 - auc_6: 0.5004 - val_loss: 0.6158 - val_accuracy: 0.7128 - val_auc_6: 0.5305\n",
      "Epoch 3/10\n",
      "31/31 [==============================] - 1s 23ms/step - loss: 0.7360 - accuracy: 0.6085 - auc_6: 0.5055 - val_loss: 0.6232 - val_accuracy: 0.7149 - val_auc_6: 0.5327\n",
      "Epoch 4/10\n",
      "31/31 [==============================] - 1s 24ms/step - loss: 0.7310 - accuracy: 0.6149 - auc_6: 0.5040 - val_loss: 0.6322 - val_accuracy: 0.7159 - val_auc_6: 0.5356\n",
      "Epoch 5/10\n",
      "31/31 [==============================] - 1s 25ms/step - loss: 0.7336 - accuracy: 0.6177 - auc_6: 0.4961 - val_loss: 0.6384 - val_accuracy: 0.7159 - val_auc_6: 0.5383\n",
      "Epoch 6/10\n",
      "31/31 [==============================] - 1s 24ms/step - loss: 0.7236 - accuracy: 0.6272 - auc_6: 0.5029 - val_loss: 0.6427 - val_accuracy: 0.7161 - val_auc_6: 0.5409\n",
      "Epoch 7/10\n",
      "31/31 [==============================] - 1s 25ms/step - loss: 0.7190 - accuracy: 0.6333 - auc_6: 0.5049 - val_loss: 0.6446 - val_accuracy: 0.7162 - val_auc_6: 0.5432\n",
      "Epoch 8/10\n",
      "31/31 [==============================] - 1s 24ms/step - loss: 0.7156 - accuracy: 0.6350 - auc_6: 0.5064 - val_loss: 0.6439 - val_accuracy: 0.7163 - val_auc_6: 0.5457\n",
      "Epoch 9/10\n",
      "31/31 [==============================] - 1s 23ms/step - loss: 0.7124 - accuracy: 0.6393 - auc_6: 0.5051 - val_loss: 0.6429 - val_accuracy: 0.7163 - val_auc_6: 0.5477\n",
      "Epoch 10/10\n",
      "31/31 [==============================] - 1s 23ms/step - loss: 0.7073 - accuracy: 0.6439 - auc_6: 0.5093 - val_loss: 0.6401 - val_accuracy: 0.7163 - val_auc_6: 0.5494\n"
     ]
    }
   ],
   "source": [
    "# Fit the model\n",
    "start_time = time()\n",
    "layer_norm_drop = model_layer_drop.fit(X_train,\n",
    "                    y_train,\n",
    "                    epochs=10,\n",
    "                    batch_size=1000,\n",
    "                    validation_split=0.2,\n",
    "                    verbose=1)\n",
    "delta_time = time() - start_time"
   ]
  },
  {
   "cell_type": "code",
   "execution_count": 34,
   "id": "9b1bc178",
   "metadata": {
    "ExecuteTime": {
     "end_time": "2023-02-02T13:40:37.362928Z",
     "start_time": "2023-02-02T13:40:36.664763Z"
    }
   },
   "outputs": [
    {
     "name": "stdout",
     "output_type": "stream",
     "text": [
      "399/399 [==============================] - 1s 1ms/step\n"
     ]
    }
   ],
   "source": [
    "predictions = model_layer_drop.predict(X_test)\n",
    "predictions = np.where(predictions >= 0.5, 1,0)\n",
    "list_f1.append(classification_report(y_test, predictions, output_dict=True)[\"1\"][\"f1-score\"])"
   ]
  },
  {
   "cell_type": "code",
   "execution_count": 35,
   "id": "931d3fd3",
   "metadata": {
    "ExecuteTime": {
     "end_time": "2023-02-02T13:40:37.378931Z",
     "start_time": "2023-02-02T13:40:37.363929Z"
    }
   },
   "outputs": [],
   "source": [
    "list_time.append(delta_time)"
   ]
  },
  {
   "cell_type": "markdown",
   "id": "85c6e573",
   "metadata": {},
   "source": [
    "## Summarize"
   ]
  },
  {
   "cell_type": "code",
   "execution_count": 36,
   "id": "ac1e1ed5",
   "metadata": {
    "ExecuteTime": {
     "end_time": "2023-02-02T13:40:37.394935Z",
     "start_time": "2023-02-02T13:40:37.380932Z"
    }
   },
   "outputs": [
    {
     "name": "stdout",
     "output_type": "stream",
     "text": [
      "dict_keys(['loss', 'accuracy', 'auc', 'val_loss', 'val_accuracy', 'val_auc'])\n",
      "dict_keys(['loss', 'accuracy', 'auc_1', 'val_loss', 'val_accuracy', 'val_auc_1'])\n",
      "dict_keys(['loss', 'accuracy', 'auc_2', 'val_loss', 'val_accuracy', 'val_auc_2'])\n",
      "dict_keys(['loss', 'accuracy', 'auc_3', 'val_loss', 'val_accuracy', 'val_auc_3'])\n",
      "dict_keys(['loss', 'accuracy', 'auc_4', 'val_loss', 'val_accuracy', 'val_auc_4'])\n",
      "dict_keys(['loss', 'accuracy', 'auc_5', 'val_loss', 'val_accuracy', 'val_auc_5'])\n",
      "dict_keys(['loss', 'accuracy', 'auc_6', 'val_loss', 'val_accuracy', 'val_auc_6'])\n"
     ]
    },
    {
     "data": {
      "text/html": [
       "<div>\n",
       "<style scoped>\n",
       "    .dataframe tbody tr th:only-of-type {\n",
       "        vertical-align: middle;\n",
       "    }\n",
       "\n",
       "    .dataframe tbody tr th {\n",
       "        vertical-align: top;\n",
       "    }\n",
       "\n",
       "    .dataframe thead th {\n",
       "        text-align: right;\n",
       "    }\n",
       "</style>\n",
       "<table border=\"1\" class=\"dataframe\">\n",
       "  <thead>\n",
       "    <tr style=\"text-align: right;\">\n",
       "      <th></th>\n",
       "      <th>Loss</th>\n",
       "      <th>Acc</th>\n",
       "      <th>AUC</th>\n",
       "      <th>F1-Score</th>\n",
       "      <th>Time executed</th>\n",
       "    </tr>\n",
       "    <tr>\n",
       "      <th>Name Model</th>\n",
       "      <th></th>\n",
       "      <th></th>\n",
       "      <th></th>\n",
       "      <th></th>\n",
       "      <th></th>\n",
       "    </tr>\n",
       "  </thead>\n",
       "  <tbody>\n",
       "    <tr>\n",
       "      <th>No Norm</th>\n",
       "      <td>0.598829</td>\n",
       "      <td>0.709873</td>\n",
       "      <td>0.569285</td>\n",
       "      <td>0.000000</td>\n",
       "      <td>3.048445</td>\n",
       "    </tr>\n",
       "    <tr>\n",
       "      <th>Batch Norm</th>\n",
       "      <td>0.644119</td>\n",
       "      <td>0.637848</td>\n",
       "      <td>0.573554</td>\n",
       "      <td>0.329418</td>\n",
       "      <td>5.072209</td>\n",
       "    </tr>\n",
       "    <tr>\n",
       "      <th>Batch Norm + Dropout</th>\n",
       "      <td>0.779092</td>\n",
       "      <td>0.553480</td>\n",
       "      <td>0.503792</td>\n",
       "      <td>0.229827</td>\n",
       "      <td>6.427087</td>\n",
       "    </tr>\n",
       "    <tr>\n",
       "      <th>Group Norm</th>\n",
       "      <td>0.603705</td>\n",
       "      <td>0.707718</td>\n",
       "      <td>0.565778</td>\n",
       "      <td>0.033186</td>\n",
       "      <td>7.060733</td>\n",
       "    </tr>\n",
       "    <tr>\n",
       "      <th>Group Norm + Dropout</th>\n",
       "      <td>0.791283</td>\n",
       "      <td>0.542445</td>\n",
       "      <td>0.497557</td>\n",
       "      <td>0.079467</td>\n",
       "      <td>8.730477</td>\n",
       "    </tr>\n",
       "    <tr>\n",
       "      <th>Layer Norm</th>\n",
       "      <td>0.597741</td>\n",
       "      <td>0.707131</td>\n",
       "      <td>0.574210</td>\n",
       "      <td>0.042034</td>\n",
       "      <td>6.385365</td>\n",
       "    </tr>\n",
       "    <tr>\n",
       "      <th>Layer Norm + Droupout</th>\n",
       "      <td>0.707332</td>\n",
       "      <td>0.643921</td>\n",
       "      <td>0.509292</td>\n",
       "      <td>0.000547</td>\n",
       "      <td>8.435430</td>\n",
       "    </tr>\n",
       "  </tbody>\n",
       "</table>\n",
       "</div>"
      ],
      "text/plain": [
       "                           Loss       Acc       AUC  F1-Score  Time executed\n",
       "Name Model                                                                  \n",
       "No Norm                0.598829  0.709873  0.569285  0.000000       3.048445\n",
       "Batch Norm             0.644119  0.637848  0.573554  0.329418       5.072209\n",
       "Batch Norm + Dropout   0.779092  0.553480  0.503792  0.229827       6.427087\n",
       "Group Norm             0.603705  0.707718  0.565778  0.033186       7.060733\n",
       "Group Norm + Dropout   0.791283  0.542445  0.497557  0.079467       8.730477\n",
       "Layer Norm             0.597741  0.707131  0.574210  0.042034       6.385365\n",
       "Layer Norm + Droupout  0.707332  0.643921  0.509292  0.000547       8.435430"
      ]
     },
     "execution_count": 36,
     "metadata": {},
     "output_type": "execute_result"
    }
   ],
   "source": [
    "no_norm.history.keys()\n",
    "batch_norm.history.keys()\n",
    "batch_drop.history.keys()\n",
    "group_norm.history.keys()\n",
    "group_norm_drop.history.keys()\n",
    "layer_norm.history.keys()\n",
    "layer_norm_drop.history.keys()\n",
    "\n",
    "loss = []\n",
    "acc = []\n",
    "auc = []\n",
    "val_loss = []\n",
    "val_acc = []\n",
    "val_auc = []\n",
    "\n",
    "list_model = [no_norm, batch_norm, batch_drop, group_norm ,group_norm_drop, layer_norm, layer_norm_drop]\n",
    "for model in list_model:\n",
    "    print(model.history.keys())\n",
    "    temp = list(model.history.keys())\n",
    "    \n",
    "    loss.append(model.history[temp[0]][-1])\n",
    "    acc.append(model.history[temp[1]][-1])\n",
    "    auc.append(model.history[temp[2]][-1])\n",
    "    val_loss.append(model.history[temp[3]][-1])\n",
    "    val_acc.append(model.history[temp[4]][-1])\n",
    "    val_auc.append(model.history[temp[5]][-1])\n",
    "    \n",
    "    \n",
    "name_model = [\n",
    "    \"No Norm\", \"Batch Norm\", \"Batch Norm + Dropout\", \"Group Norm\",\n",
    "    \"Group Norm + Dropout\", \"Layer Norm\", \"Layer Norm + Droupout\"\n",
    "]\n",
    "\n",
    "df = pd.DataFrame(name_model, columns = [\"Name Model\"])\n",
    "df[\"Loss\"] = loss\n",
    "df[\"Acc\"] = acc\n",
    "df[\"AUC\"] = auc\n",
    "df[\"F1-Score\"] = list_f1\n",
    "df[\"Time executed\"] = list_time\n",
    "df.set_index([\"Name Model\"])"
   ]
  },
  {
   "cell_type": "code",
   "execution_count": 37,
   "id": "fbef94f8",
   "metadata": {
    "ExecuteTime": {
     "end_time": "2023-02-02T13:40:37.632611Z",
     "start_time": "2023-02-02T13:40:37.395936Z"
    }
   },
   "outputs": [
    {
     "data": {
      "image/png": "[encoded data removed]",
      "text/plain": [
       "<Figure size 640x480 with 1 Axes>"
      ]
     },
     "metadata": {},
     "output_type": "display_data"
    }
   ],
   "source": [
    "plt.plot(no_norm.history['loss'])\n",
    "plt.plot(batch_norm.history['loss'])\n",
    "plt.plot(batch_drop.history['loss'])\n",
    "plt.plot(group_norm.history['loss'])\n",
    "plt.plot(group_norm_drop.history['loss'])\n",
    "plt.plot(layer_norm.history['loss'])\n",
    "plt.plot(layer_norm_drop.history['loss'])\n",
    "\n",
    "plt.title('Model Loss on Cell2Cell dataset')\n",
    "plt.ylabel('loss')\n",
    "plt.xlabel('epoch')\n",
    "plt.legend([\n",
    "    'No Norm', 'Batch Norm', 'Batch Norm + Dropout', 'Group Norm',\n",
    "    'Group Norm + Dropout', 'Layer Norm', 'Layer Norm + Dropout'\n",
    "],\n",
    "           prop={'size': 6}, loc = 'upper left')\n",
    "plt.savefig('compare_loss_cell2cell.png')\n",
    "plt.show()"
   ]
  },
  {
   "cell_type": "code",
   "execution_count": 38,
   "id": "19d77c7b",
   "metadata": {
    "ExecuteTime": {
     "end_time": "2023-02-02T13:40:37.774647Z",
     "start_time": "2023-02-02T13:40:37.633612Z"
    }
   },
   "outputs": [
    {
     "data": {
      "image/png": "[encoded data removed]",
      "text/plain": [
       "<Figure size 640x480 with 1 Axes>"
      ]
     },
     "metadata": {},
     "output_type": "display_data"
    }
   ],
   "source": [
    "plt.plot(no_norm.history['accuracy'])\n",
    "plt.plot(batch_norm.history['accuracy'])\n",
    "plt.plot(batch_drop.history['accuracy'])\n",
    "plt.plot(group_norm.history['accuracy'])\n",
    "plt.plot(group_norm_drop.history['accuracy'])\n",
    "plt.plot(layer_norm.history['accuracy'])\n",
    "plt.plot(layer_norm_drop.history['accuracy'])\n",
    "\n",
    "plt.title('Model Accuracy on Cell2Cell dataset')\n",
    "plt.ylabel('accuracy')\n",
    "plt.xlabel('epoch')\n",
    "plt.legend([\n",
    "    'No Norm', 'Batch Norm', 'Batch Norm + Dropout', 'Group Norm',\n",
    "    'Group Norm + Dropout', 'Layer Norm', 'Layer Norm + Dropout'\n",
    "],\n",
    "           prop={'size': 6})\n",
    "#plt.savefig('compare_accuracy_cell2cell.png')\n",
    "plt.show()"
   ]
  },
  {
   "cell_type": "code",
   "execution_count": 39,
   "id": "0779185c",
   "metadata": {
    "ExecuteTime": {
     "end_time": "2023-02-02T13:40:37.978693Z",
     "start_time": "2023-02-02T13:40:37.775647Z"
    }
   },
   "outputs": [
    {
     "data": {
      "image/png": "[encoded data removed]",
      "text/plain": [
       "<Figure size 640x480 with 1 Axes>"
      ]
     },
     "metadata": {},
     "output_type": "display_data"
    }
   ],
   "source": [
    "plt.plot(no_norm.history['auc'])\n",
    "plt.plot(batch_norm.history['auc_1'])\n",
    "plt.plot(batch_drop.history['auc_2'])\n",
    "plt.plot(group_norm.history['auc_3'])\n",
    "plt.plot(group_norm_drop.history['auc_4'])\n",
    "plt.plot(layer_norm.history['auc_5'])\n",
    "plt.plot(layer_norm_drop.history['auc_6'])\n",
    "\n",
    "plt.title('Model Auc on Cell2Cell dataset')\n",
    "plt.ylabel('auc')\n",
    "plt.xlabel('epoch')\n",
    "plt.legend([\n",
    "    'No Norm', 'Batch Norm', 'Batch Norm + Dropout', 'Group Norm',\n",
    "    'Group Norm + Dropout', 'Layer Norm', 'Layer Norm + Dropout'\n",
    "],\n",
    "           prop={'size': 6})\n",
    "plt.savefig('compare_auc_cell2cell.png')\n",
    "plt.show()"
   ]
  },
  {
   "cell_type": "code",
   "execution_count": 40,
   "id": "7807cc1f",
   "metadata": {
    "ExecuteTime": {
     "end_time": "2023-02-02T13:40:37.994701Z",
     "start_time": "2023-02-02T13:40:37.979694Z"
    }
   },
   "outputs": [],
   "source": [
    "def addlabels(x,y):\n",
    "    for i in range(len(x)):\n",
    "        plt.text(i,y[i],y[i], ha=\"center\")"
   ]
  },
  {
   "cell_type": "code",
   "execution_count": 41,
   "id": "1a613281",
   "metadata": {
    "ExecuteTime": {
     "end_time": "2023-02-02T13:40:38.170360Z",
     "start_time": "2023-02-02T13:40:37.995702Z"
    }
   },
   "outputs": [
    {
     "data": {
      "image/png": "[encoded data removed]",
      "text/plain": [
       "<Figure size 640x480 with 1 Axes>"
      ]
     },
     "metadata": {},
     "output_type": "display_data"
    }
   ],
   "source": [
    "f_score = [0.112, 0.225, 0.216, 0.313 , 0.344,\n",
    "       0.374, 0.056]\n",
    "plt.bar([\n",
    "    'No \\n Norm', 'Batch \\n Norm', 'Batch + \\n Dropout', 'Group \\n Norm',\n",
    "    'Group +\\n Dropout', 'Layer \\n Norm', 'Layer +\\n Dropout'\n",
    "], f_score)\n",
    "\n",
    "addlabels([\n",
    "    'No \\n Norm', 'Batch \\n Norm', 'Batch + \\n Dropout', 'Group \\n Norm',\n",
    "    'Group +\\n Dropout', 'Layer \\n Norm', 'Layer +\\n Dropout'\n",
    "], f_score)\n",
    "plt.title(\"Compare F1- Score through methods on Cell2Cell dataset\")\n",
    "plt.savefig(\"f_score_cell2cell.png\")\n",
    "plt.show()"
   ]
  },
  {
   "cell_type": "code",
   "execution_count": 42,
   "id": "76f43b8f",
   "metadata": {
    "ExecuteTime": {
     "end_time": "2023-02-02T13:40:38.185575Z",
     "start_time": "2023-02-02T13:40:38.171366Z"
    }
   },
   "outputs": [
    {
     "data": {
      "text/plain": [
       "array([0.        , 0.32941819, 0.22982721, 0.03318641, 0.07946705,\n",
       "       0.04203425, 0.0005472 ])"
      ]
     },
     "execution_count": 42,
     "metadata": {},
     "output_type": "execute_result"
    }
   ],
   "source": [
    "df[\"F1-Score\"].values"
   ]
  }
 ],
 "metadata": {
  "kernelspec": {
   "display_name": "Python 3 (ipykernel)",
   "language": "python",
   "name": "python3"
  },
  "language_info": {
   "codemirror_mode": {
    "name": "ipython",
    "version": 3
   },
   "file_extension": ".py",
   "mimetype": "text/x-python",
   "name": "python",
   "nbconvert_exporter": "python",
   "pygments_lexer": "ipython3",
   "version": "3.9.13"
  },
  "toc": {
   "base_numbering": 1,
   "nav_menu": {},
   "number_sections": true,
   "sideBar": true,
   "skip_h1_title": false,
   "title_cell": "Table of Contents",
   "title_sidebar": "Contents",
   "toc_cell": false,
   "toc_position": {},
   "toc_section_display": true,
   "toc_window_display": false
  },
  "varInspector": {
   "cols": {
    "lenName": 16,
    "lenType": 16,
    "lenVar": 40
   },
   "kernels_config": {
    "python": {
     "delete_cmd_postfix": "",
     "delete_cmd_prefix": "del ",
     "library": "var_list.py",
     "varRefreshCmd": "print(var_dic_list())"
    },
    "r": {
     "delete_cmd_postfix": ") ",
     "delete_cmd_prefix": "rm(",
     "library": "var_list.r",
     "varRefreshCmd": "cat(var_dic_list()) "
    }
   },
   "types_to_exclude": [
    "module",
    "function",
    "builtin_function_or_method",
    "instance",
    "_Feature"
   ],
   "window_display": false
  }
 },
 "nbformat": 4,
 "nbformat_minor": 5
}
